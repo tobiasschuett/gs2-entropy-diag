{
 "cells": [
  {
   "cell_type": "markdown",
   "id": "eed35be8-df17-4402-b09f-fc8f63bb36f9",
   "metadata": {},
   "source": [
    "# Point of this file:\n",
    "compare output of entropy transfer implemented in GS2 and output from python script calculation with dist fn print out at last timestep <br>\n",
    "\n",
    "**Note:** script for this test now in crossTest.py"
   ]
  },
  {
   "cell_type": "code",
   "execution_count": 36,
   "id": "9c8b548d-33f4-43c2-80bc-6eeae81cae06",
   "metadata": {},
   "outputs": [],
   "source": [
    "import netCDF4 as nc\n",
    "import numpy.ma as ma\n",
    "import matplotlib.pyplot as plt\n",
    "import numpy as np\n",
    "\n",
    "import warnings\n",
    "warnings.filterwarnings(\"ignore\", category=DeprecationWarning)"
   ]
  },
  {
   "cell_type": "markdown",
   "id": "d0d598bd-3862-4c8f-957f-1158926025ba",
   "metadata": {},
   "source": [
    "### load imlemented calculation result"
   ]
  },
  {
   "cell_type": "code",
   "execution_count": 37,
   "id": "99ae5109-2415-455a-8089-463a3a186ad2",
   "metadata": {},
   "outputs": [],
   "source": [
    "data = nc.Dataset(\"nlinear1/test2/c1.out.nc\")"
   ]
  },
  {
   "cell_type": "code",
   "execution_count": 38,
   "id": "4e7972d3-e1fa-45d5-bb6d-85a0e8f107ab",
   "metadata": {},
   "outputs": [
    {
     "data": {
      "text/plain": [
       "<class 'netCDF4._netCDF4.Variable'>\n",
       "float64 entropy_transfer(t, kx, kx, kx, kx)\n",
       "    description: entropy transfer(kys,kyt,kxs,kxt) with ky extended, i.e. 2*nky-1 of what is stated in dim_string\n",
       "    units: no units\n",
       "unlimited dimensions: t\n",
       "current shape = (7, 5, 5, 5, 5)\n",
       "filling on, default _FillValue of 9.969209968386869e+36 used"
      ]
     },
     "execution_count": 38,
     "metadata": {},
     "output_type": "execute_result"
    }
   ],
   "source": [
    "data[\"entropy_transfer\"]"
   ]
  },
  {
   "cell_type": "code",
   "execution_count": 39,
   "id": "1e75333c-68e7-42e3-9603-ac6f263b2496",
   "metadata": {},
   "outputs": [],
   "source": [
    "S_transfer = np.array(data[\"entropy_transfer\"][:])"
   ]
  },
  {
   "cell_type": "markdown",
   "id": "368e2a24-d00b-4bda-805c-f932a6c4c6b9",
   "metadata": {},
   "source": [
    "### load result of post run python script"
   ]
  },
  {
   "cell_type": "code",
   "execution_count": 40,
   "id": "025271da-f663-45b7-ab0b-499784df8fd2",
   "metadata": {},
   "outputs": [],
   "source": [
    "S_transfer_python = np.load(\"Stransfer-test2_entropy.npz\")"
   ]
  },
  {
   "cell_type": "code",
   "execution_count": 41,
   "id": "b7f2e312-dc5d-4eaf-8acf-f1d83a1e0165",
   "metadata": {},
   "outputs": [
    {
     "data": {
      "text/plain": [
       "['entropy_result', 'kx', 'ky', 'output_shape']"
      ]
     },
     "execution_count": 41,
     "metadata": {},
     "output_type": "execute_result"
    }
   ],
   "source": [
    "S_transfer_python.files"
   ]
  },
  {
   "cell_type": "code",
   "execution_count": 42,
   "id": "0209d0a1-eaf0-4296-a702-c0a14f5b90d7",
   "metadata": {},
   "outputs": [
    {
     "data": {
      "text/plain": [
       "(13, 6, 10, 2, 5, 5, 5, 5)"
      ]
     },
     "execution_count": 42,
     "metadata": {},
     "output_type": "execute_result"
    }
   ],
   "source": [
    "S_transfer_python[\"entropy_result\"].shape"
   ]
  },
  {
   "cell_type": "code",
   "execution_count": 43,
   "id": "4fa2cb2d-7df5-4f21-aee4-db31bd3427e4",
   "metadata": {},
   "outputs": [],
   "source": [
    "S_transfer_python_sum = np.sum(S_transfer_python[\"entropy_result\"],axis=(0,1,2,3))"
   ]
  },
  {
   "cell_type": "code",
   "execution_count": 44,
   "id": "057e4934-b197-4f1b-b317-6ca62f066908",
   "metadata": {},
   "outputs": [
    {
     "data": {
      "text/plain": [
       "(5, 5, 5, 5)"
      ]
     },
     "execution_count": 44,
     "metadata": {},
     "output_type": "execute_result"
    }
   ],
   "source": [
    "S_transfer_python_sum.shape"
   ]
  },
  {
   "cell_type": "markdown",
   "id": "c61a9ae0-8608-4ec7-855a-d0c9e884d1e7",
   "metadata": {},
   "source": [
    "### compare random values for impression"
   ]
  },
  {
   "cell_type": "code",
   "execution_count": 45,
   "id": "d7cd9564-28a7-479d-85c4-924e183dc83a",
   "metadata": {},
   "outputs": [
    {
     "data": {
      "text/plain": [
       "array([[ 0.00877507, -0.01236379,  0.00640219,  0.        ,  0.        ],\n",
       "       [ 0.00018881, -0.00801881, -0.01045197,  0.00111357,  0.        ],\n",
       "       [ 0.        ,  0.        ,  0.        ,  0.        ,  0.        ],\n",
       "       [ 0.        ,  0.00110182, -0.01057684, -0.00791543,  0.00029316],\n",
       "       [ 0.        ,  0.        ,  0.00642502, -0.01232875,  0.00861515]])"
      ]
     },
     "execution_count": 45,
     "metadata": {},
     "output_type": "execute_result"
    }
   ],
   "source": [
    "S_transfer_python_sum[2,1,:,:]"
   ]
  },
  {
   "cell_type": "code",
   "execution_count": 46,
   "id": "6c4b179e-1775-4ed9-af23-3de74ed2f744",
   "metadata": {},
   "outputs": [
    {
     "data": {
      "text/plain": [
       "array([[ 0.00877507, -0.01236379,  0.00640219,  0.        ,  0.        ],\n",
       "       [ 0.00018881, -0.00801881, -0.01045197,  0.00111357,  0.        ],\n",
       "       [ 0.        ,  0.        ,  0.        ,  0.        ,  0.        ],\n",
       "       [ 0.        ,  0.00110182, -0.01057684, -0.00791543,  0.00029316],\n",
       "       [ 0.        ,  0.        ,  0.00642502, -0.01232875,  0.00861515]])"
      ]
     },
     "execution_count": 46,
     "metadata": {},
     "output_type": "execute_result"
    }
   ],
   "source": [
    "S_transfer[-1,2,1,:,:]"
   ]
  },
  {
   "cell_type": "markdown",
   "id": "e49bcadc-c90f-4f2e-b09a-fa64d6a05a2c",
   "metadata": {},
   "source": [
    "### compare both fully up to certain sensible certainty"
   ]
  },
  {
   "cell_type": "code",
   "execution_count": 47,
   "id": "bf6609de-1f33-4b1b-96ab-1e1ccb47ce7a",
   "metadata": {},
   "outputs": [
    {
     "data": {
      "text/plain": [
       "True"
      ]
     },
     "execution_count": 47,
     "metadata": {},
     "output_type": "execute_result"
    }
   ],
   "source": [
    "A = np.round(S_transfer[-1,:,:,:,:],8)\n",
    "B = np.round(S_transfer_python_sum,8)\n",
    "\n",
    "(A==B).all()"
   ]
  },
  {
   "cell_type": "markdown",
   "id": "8b603d9e-e562-46b3-98af-1342a3b7b443",
   "metadata": {},
   "source": [
    "-> implementation works. Comparison put into script crossTest.py"
   ]
  },
  {
   "cell_type": "markdown",
   "id": "0d9f7566-a4f2-4bb9-94ef-39d008241ae7",
   "metadata": {},
   "source": [
    "### test symmetries"
   ]
  },
  {
   "cell_type": "code",
   "execution_count": 48,
   "id": "cc77e59e-91f9-4047-b344-016987b7913e",
   "metadata": {},
   "outputs": [],
   "source": [
    "import helpers"
   ]
  },
  {
   "cell_type": "code",
   "execution_count": 49,
   "id": "d634cc58-284d-4dd6-a2a9-5080eafd4026",
   "metadata": {},
   "outputs": [],
   "source": [
    "kx = S_transfer_python[\"kx\"]\n",
    "ky = S_transfer_python[\"ky\"]\n",
    "nkx = len(kx)\n",
    "nky = len(ky)"
   ]
  },
  {
   "cell_type": "code",
   "execution_count": 50,
   "id": "0e918f93-abc2-401f-823a-0fe8f3b28865",
   "metadata": {},
   "outputs": [
    {
     "name": "stderr",
     "output_type": "stream",
     "text": [
      "100%|████████████████████████████████████████████████████████████████████████████████████████████████████████████████████████████████████████████████████████████████████████████| 5/5 [00:00<00:00, 165.61it/s]\n"
     ]
    },
    {
     "data": {
      "text/plain": [
       "True"
      ]
     },
     "execution_count": 50,
     "metadata": {},
     "output_type": "execute_result"
    }
   ],
   "source": [
    "helpers.symmetry_test1(kx,ky,S_transfer_python_sum)"
   ]
  },
  {
   "cell_type": "code",
   "execution_count": 51,
   "id": "0f23e207-f68a-4a72-993c-44605ef22036",
   "metadata": {},
   "outputs": [
    {
     "name": "stderr",
     "output_type": "stream",
     "text": [
      "100%|████████████████████████████████████████████████████████████████████████████████████████████████████████████████████████████████████████████████████████████████████████████| 5/5 [00:00<00:00, 134.37it/s]\n"
     ]
    },
    {
     "data": {
      "text/plain": [
       "True"
      ]
     },
     "execution_count": 51,
     "metadata": {},
     "output_type": "execute_result"
    }
   ],
   "source": [
    "helpers.symmetry_test2(kx,ky,S_transfer_python_sum)"
   ]
  },
  {
   "cell_type": "code",
   "execution_count": 52,
   "id": "73b98f92-0cb9-4f24-a54c-907ad115f12d",
   "metadata": {},
   "outputs": [
    {
     "name": "stderr",
     "output_type": "stream",
     "text": [
      " 20%|██████████████████████████████████▍                                                                                                                                         | 1/5 [00:00<00:00, 164.23it/s]"
     ]
    },
    {
     "name": "stdout",
     "output_type": "stream",
     "text": [
      "error -0.2845313109842429\n"
     ]
    },
    {
     "name": "stderr",
     "output_type": "stream",
     "text": [
      "\n"
     ]
    },
    {
     "data": {
      "text/plain": [
       "False"
      ]
     },
     "execution_count": 52,
     "metadata": {},
     "output_type": "execute_result"
    }
   ],
   "source": [
    "helpers.symmetry_test3(kx,ky,S_transfer_python_sum)"
   ]
  },
  {
   "cell_type": "code",
   "execution_count": 53,
   "id": "7c8e6284-9948-4389-9301-181e9089d560",
   "metadata": {},
   "outputs": [
    {
     "name": "stderr",
     "output_type": "stream",
     "text": [
      "100%|████████████████████████████████████████████████████████████████████████████████████████████████████████████████████████████████████████████████████████████████████████████| 5/5 [00:00<00:00, 255.77it/s]\n"
     ]
    },
    {
     "data": {
      "text/plain": [
       "True"
      ]
     },
     "execution_count": 53,
     "metadata": {},
     "output_type": "execute_result"
    }
   ],
   "source": [
    "helpers.symmetry_test1(kx,ky,S_transfer[-1,:,:,:,:])"
   ]
  },
  {
   "cell_type": "code",
   "execution_count": 54,
   "id": "2719737d-7ae1-4735-92ec-cfcc77067970",
   "metadata": {},
   "outputs": [
    {
     "name": "stderr",
     "output_type": "stream",
     "text": [
      "100%|████████████████████████████████████████████████████████████████████████████████████████████████████████████████████████████████████████████████████████████████████████████| 5/5 [00:00<00:00, 138.30it/s]\n"
     ]
    },
    {
     "data": {
      "text/plain": [
       "True"
      ]
     },
     "execution_count": 54,
     "metadata": {},
     "output_type": "execute_result"
    }
   ],
   "source": [
    "helpers.symmetry_test2(kx,ky,S_transfer[-1,:,:,:,:])"
   ]
  },
  {
   "cell_type": "code",
   "execution_count": 55,
   "id": "b983722e-6fd5-4f56-a6a2-3c022edd7f2b",
   "metadata": {},
   "outputs": [
    {
     "name": "stderr",
     "output_type": "stream",
     "text": [
      " 20%|██████████████████████████████████▍                                                                                                                                         | 1/5 [00:00<00:00, 222.92it/s]"
     ]
    },
    {
     "name": "stdout",
     "output_type": "stream",
     "text": [
      "error -0.28453131098424306\n"
     ]
    },
    {
     "name": "stderr",
     "output_type": "stream",
     "text": [
      "\n"
     ]
    },
    {
     "data": {
      "text/plain": [
       "False"
      ]
     },
     "execution_count": 55,
     "metadata": {},
     "output_type": "execute_result"
    }
   ],
   "source": [
    "helpers.symmetry_test3(kx,ky,S_transfer[-1,:,:,:,:])"
   ]
  }
 ],
 "metadata": {
  "kernelspec": {
   "display_name": "Python 3 (ipykernel)",
   "language": "python",
   "name": "python3"
  },
  "language_info": {
   "codemirror_mode": {
    "name": "ipython",
    "version": 3
   },
   "file_extension": ".py",
   "mimetype": "text/x-python",
   "name": "python",
   "nbconvert_exporter": "python",
   "pygments_lexer": "ipython3",
   "version": "3.8.2"
  }
 },
 "nbformat": 4,
 "nbformat_minor": 5
}
