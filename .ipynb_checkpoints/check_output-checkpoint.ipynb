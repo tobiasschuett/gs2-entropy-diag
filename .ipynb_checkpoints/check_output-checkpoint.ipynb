{
 "cells": [
  {
   "cell_type": "markdown",
   "id": "eed35be8-df17-4402-b09f-fc8f63bb36f9",
   "metadata": {},
   "source": [
    "# Point of this file:\n",
    "compare output of entropy transfer implemented in GS2 and output from python script calculation with dist fn print out at last timestep <br>\n",
    "\n",
    "**Note:** script for this test now in crossTest.py"
   ]
  },
  {
   "cell_type": "code",
   "execution_count": 1,
   "id": "9c8b548d-33f4-43c2-80bc-6eeae81cae06",
   "metadata": {},
   "outputs": [],
   "source": [
    "import netCDF4 as nc\n",
    "import numpy.ma as ma\n",
    "import matplotlib.pyplot as plt\n",
    "import numpy as np\n",
    "import xarray as xr\n",
    "\n",
    "import warnings\n",
    "warnings.filterwarnings(\"ignore\", category=DeprecationWarning)"
   ]
  },
  {
   "cell_type": "markdown",
   "id": "d0d598bd-3862-4c8f-957f-1158926025ba",
   "metadata": {},
   "source": [
    "### load imlemented calculation result"
   ]
  },
  {
   "cell_type": "code",
   "execution_count": 2,
   "id": "99ae5109-2415-455a-8089-463a3a186ad2",
   "metadata": {},
   "outputs": [],
   "source": [
    "data = nc.Dataset(\"nlinear1/test4/c1.out.nc\")"
   ]
  },
  {
   "cell_type": "code",
   "execution_count": 3,
   "id": "4e7972d3-e1fa-45d5-bb6d-85a0e8f107ab",
   "metadata": {},
   "outputs": [
    {
     "data": {
      "text/plain": [
       "<class 'netCDF4._netCDF4.Variable'>\n",
       "float64 entropy_transfer_4D(t, ky, ky, kx, kx)\n",
       "    description: entropy transfer(kys,kyt,kxs,kxt) with ky extended, i.e. 2*nky-1 of what is stated in dim_string\n",
       "    units: no units\n",
       "unlimited dimensions: t\n",
       "current shape = (7, 6, 6, 11, 11)\n",
       "filling on, default _FillValue of 9.969209968386869e+36 used"
      ]
     },
     "execution_count": 3,
     "metadata": {},
     "output_type": "execute_result"
    }
   ],
   "source": [
    "data[\"entropy_transfer_4D\"]"
   ]
  },
  {
   "cell_type": "code",
   "execution_count": 4,
   "id": "1e75333c-68e7-42e3-9603-ac6f263b2496",
   "metadata": {},
   "outputs": [],
   "source": [
    "S_transfer = np.array(data[\"entropy_transfer_4D\"][:])"
   ]
  },
  {
   "cell_type": "markdown",
   "id": "368e2a24-d00b-4bda-805c-f932a6c4c6b9",
   "metadata": {},
   "source": [
    "### load result of post run python script"
   ]
  },
  {
   "cell_type": "code",
   "execution_count": 5,
   "id": "dcf6acff-ff82-4e33-8d99-4b4898a5897e",
   "metadata": {},
   "outputs": [],
   "source": [
    "data = nc.Dataset(\"nlinear1/test4/c1.out.nc\") #test4 folder is baseline that works\n",
    "S_transfer = np.array(data[\"entropy_transfer_4D\"][:])\n",
    "\n",
    "S_transfer_python = xr.open_dataset(\"entropy_transfer.nc\")\n",
    "S_transfer_python_sum = np.sum(S_transfer_python[\"entropy_transfer\"],axis=(0,1,2,3)) #sum over theta,energy,lambda,sign\n",
    "\n",
    "#take out result of ky >= 0, negative kys result is symmetric to positive ones\n",
    "ky = S_transfer_python[\"kys\"].values\n",
    "nky = len(ky)\n",
    "iky0 = np.argmin(np.abs(ky))\n",
    "\n",
    "\n",
    "S_transfer_python_sum = S_transfer_python_sum[iky0:,iky0:,:,:]\n",
    "\n",
    "A = S_transfer[-1,:,:,:,:]\n",
    "B = S_transfer_python_sum"
   ]
  },
  {
   "cell_type": "code",
   "execution_count": 6,
   "id": "025271da-f663-45b7-ab0b-499784df8fd2",
   "metadata": {},
   "outputs": [],
   "source": [
    "S_transfer_python = xr.load_dataset(\"entropy_transfer.nc\")"
   ]
  },
  {
   "cell_type": "code",
   "execution_count": 7,
   "id": "b7f2e312-dc5d-4eaf-8acf-f1d83a1e0165",
   "metadata": {},
   "outputs": [
    {
     "data": {
      "text/html": [
       "<div><svg style=\"position: absolute; width: 0; height: 0; overflow: hidden\">\n",
       "<defs>\n",
       "<symbol id=\"icon-database\" viewBox=\"0 0 32 32\">\n",
       "<path d=\"M16 0c-8.837 0-16 2.239-16 5v4c0 2.761 7.163 5 16 5s16-2.239 16-5v-4c0-2.761-7.163-5-16-5z\"></path>\n",
       "<path d=\"M16 17c-8.837 0-16-2.239-16-5v6c0 2.761 7.163 5 16 5s16-2.239 16-5v-6c0 2.761-7.163 5-16 5z\"></path>\n",
       "<path d=\"M16 26c-8.837 0-16-2.239-16-5v6c0 2.761 7.163 5 16 5s16-2.239 16-5v-6c0 2.761-7.163 5-16 5z\"></path>\n",
       "</symbol>\n",
       "<symbol id=\"icon-file-text2\" viewBox=\"0 0 32 32\">\n",
       "<path d=\"M28.681 7.159c-0.694-0.947-1.662-2.053-2.724-3.116s-2.169-2.030-3.116-2.724c-1.612-1.182-2.393-1.319-2.841-1.319h-15.5c-1.378 0-2.5 1.121-2.5 2.5v27c0 1.378 1.122 2.5 2.5 2.5h23c1.378 0 2.5-1.122 2.5-2.5v-19.5c0-0.448-0.137-1.23-1.319-2.841zM24.543 5.457c0.959 0.959 1.712 1.825 2.268 2.543h-4.811v-4.811c0.718 0.556 1.584 1.309 2.543 2.268zM28 29.5c0 0.271-0.229 0.5-0.5 0.5h-23c-0.271 0-0.5-0.229-0.5-0.5v-27c0-0.271 0.229-0.5 0.5-0.5 0 0 15.499-0 15.5 0v7c0 0.552 0.448 1 1 1h7v19.5z\"></path>\n",
       "<path d=\"M23 26h-14c-0.552 0-1-0.448-1-1s0.448-1 1-1h14c0.552 0 1 0.448 1 1s-0.448 1-1 1z\"></path>\n",
       "<path d=\"M23 22h-14c-0.552 0-1-0.448-1-1s0.448-1 1-1h14c0.552 0 1 0.448 1 1s-0.448 1-1 1z\"></path>\n",
       "<path d=\"M23 18h-14c-0.552 0-1-0.448-1-1s0.448-1 1-1h14c0.552 0 1 0.448 1 1s-0.448 1-1 1z\"></path>\n",
       "</symbol>\n",
       "</defs>\n",
       "</svg>\n",
       "<style>/* CSS stylesheet for displaying xarray objects in jupyterlab.\n",
       " *\n",
       " */\n",
       "\n",
       ":root {\n",
       "  --xr-font-color0: var(--jp-content-font-color0, rgba(0, 0, 0, 1));\n",
       "  --xr-font-color2: var(--jp-content-font-color2, rgba(0, 0, 0, 0.54));\n",
       "  --xr-font-color3: var(--jp-content-font-color3, rgba(0, 0, 0, 0.38));\n",
       "  --xr-border-color: var(--jp-border-color2, #e0e0e0);\n",
       "  --xr-disabled-color: var(--jp-layout-color3, #bdbdbd);\n",
       "  --xr-background-color: var(--jp-layout-color0, white);\n",
       "  --xr-background-color-row-even: var(--jp-layout-color1, white);\n",
       "  --xr-background-color-row-odd: var(--jp-layout-color2, #eeeeee);\n",
       "}\n",
       "\n",
       "html[theme=dark],\n",
       "body[data-theme=dark],\n",
       "body.vscode-dark {\n",
       "  --xr-font-color0: rgba(255, 255, 255, 1);\n",
       "  --xr-font-color2: rgba(255, 255, 255, 0.54);\n",
       "  --xr-font-color3: rgba(255, 255, 255, 0.38);\n",
       "  --xr-border-color: #1F1F1F;\n",
       "  --xr-disabled-color: #515151;\n",
       "  --xr-background-color: #111111;\n",
       "  --xr-background-color-row-even: #111111;\n",
       "  --xr-background-color-row-odd: #313131;\n",
       "}\n",
       "\n",
       ".xr-wrap {\n",
       "  display: block !important;\n",
       "  min-width: 300px;\n",
       "  max-width: 700px;\n",
       "}\n",
       "\n",
       ".xr-text-repr-fallback {\n",
       "  /* fallback to plain text repr when CSS is not injected (untrusted notebook) */\n",
       "  display: none;\n",
       "}\n",
       "\n",
       ".xr-header {\n",
       "  padding-top: 6px;\n",
       "  padding-bottom: 6px;\n",
       "  margin-bottom: 4px;\n",
       "  border-bottom: solid 1px var(--xr-border-color);\n",
       "}\n",
       "\n",
       ".xr-header > div,\n",
       ".xr-header > ul {\n",
       "  display: inline;\n",
       "  margin-top: 0;\n",
       "  margin-bottom: 0;\n",
       "}\n",
       "\n",
       ".xr-obj-type,\n",
       ".xr-array-name {\n",
       "  margin-left: 2px;\n",
       "  margin-right: 10px;\n",
       "}\n",
       "\n",
       ".xr-obj-type {\n",
       "  color: var(--xr-font-color2);\n",
       "}\n",
       "\n",
       ".xr-sections {\n",
       "  padding-left: 0 !important;\n",
       "  display: grid;\n",
       "  grid-template-columns: 150px auto auto 1fr 20px 20px;\n",
       "}\n",
       "\n",
       ".xr-section-item {\n",
       "  display: contents;\n",
       "}\n",
       "\n",
       ".xr-section-item input {\n",
       "  display: none;\n",
       "}\n",
       "\n",
       ".xr-section-item input + label {\n",
       "  color: var(--xr-disabled-color);\n",
       "}\n",
       "\n",
       ".xr-section-item input:enabled + label {\n",
       "  cursor: pointer;\n",
       "  color: var(--xr-font-color2);\n",
       "}\n",
       "\n",
       ".xr-section-item input:enabled + label:hover {\n",
       "  color: var(--xr-font-color0);\n",
       "}\n",
       "\n",
       ".xr-section-summary {\n",
       "  grid-column: 1;\n",
       "  color: var(--xr-font-color2);\n",
       "  font-weight: 500;\n",
       "}\n",
       "\n",
       ".xr-section-summary > span {\n",
       "  display: inline-block;\n",
       "  padding-left: 0.5em;\n",
       "}\n",
       "\n",
       ".xr-section-summary-in:disabled + label {\n",
       "  color: var(--xr-font-color2);\n",
       "}\n",
       "\n",
       ".xr-section-summary-in + label:before {\n",
       "  display: inline-block;\n",
       "  content: '►';\n",
       "  font-size: 11px;\n",
       "  width: 15px;\n",
       "  text-align: center;\n",
       "}\n",
       "\n",
       ".xr-section-summary-in:disabled + label:before {\n",
       "  color: var(--xr-disabled-color);\n",
       "}\n",
       "\n",
       ".xr-section-summary-in:checked + label:before {\n",
       "  content: '▼';\n",
       "}\n",
       "\n",
       ".xr-section-summary-in:checked + label > span {\n",
       "  display: none;\n",
       "}\n",
       "\n",
       ".xr-section-summary,\n",
       ".xr-section-inline-details {\n",
       "  padding-top: 4px;\n",
       "  padding-bottom: 4px;\n",
       "}\n",
       "\n",
       ".xr-section-inline-details {\n",
       "  grid-column: 2 / -1;\n",
       "}\n",
       "\n",
       ".xr-section-details {\n",
       "  display: none;\n",
       "  grid-column: 1 / -1;\n",
       "  margin-bottom: 5px;\n",
       "}\n",
       "\n",
       ".xr-section-summary-in:checked ~ .xr-section-details {\n",
       "  display: contents;\n",
       "}\n",
       "\n",
       ".xr-array-wrap {\n",
       "  grid-column: 1 / -1;\n",
       "  display: grid;\n",
       "  grid-template-columns: 20px auto;\n",
       "}\n",
       "\n",
       ".xr-array-wrap > label {\n",
       "  grid-column: 1;\n",
       "  vertical-align: top;\n",
       "}\n",
       "\n",
       ".xr-preview {\n",
       "  color: var(--xr-font-color3);\n",
       "}\n",
       "\n",
       ".xr-array-preview,\n",
       ".xr-array-data {\n",
       "  padding: 0 5px !important;\n",
       "  grid-column: 2;\n",
       "}\n",
       "\n",
       ".xr-array-data,\n",
       ".xr-array-in:checked ~ .xr-array-preview {\n",
       "  display: none;\n",
       "}\n",
       "\n",
       ".xr-array-in:checked ~ .xr-array-data,\n",
       ".xr-array-preview {\n",
       "  display: inline-block;\n",
       "}\n",
       "\n",
       ".xr-dim-list {\n",
       "  display: inline-block !important;\n",
       "  list-style: none;\n",
       "  padding: 0 !important;\n",
       "  margin: 0;\n",
       "}\n",
       "\n",
       ".xr-dim-list li {\n",
       "  display: inline-block;\n",
       "  padding: 0;\n",
       "  margin: 0;\n",
       "}\n",
       "\n",
       ".xr-dim-list:before {\n",
       "  content: '(';\n",
       "}\n",
       "\n",
       ".xr-dim-list:after {\n",
       "  content: ')';\n",
       "}\n",
       "\n",
       ".xr-dim-list li:not(:last-child):after {\n",
       "  content: ',';\n",
       "  padding-right: 5px;\n",
       "}\n",
       "\n",
       ".xr-has-index {\n",
       "  font-weight: bold;\n",
       "}\n",
       "\n",
       ".xr-var-list,\n",
       ".xr-var-item {\n",
       "  display: contents;\n",
       "}\n",
       "\n",
       ".xr-var-item > div,\n",
       ".xr-var-item label,\n",
       ".xr-var-item > .xr-var-name span {\n",
       "  background-color: var(--xr-background-color-row-even);\n",
       "  margin-bottom: 0;\n",
       "}\n",
       "\n",
       ".xr-var-item > .xr-var-name:hover span {\n",
       "  padding-right: 5px;\n",
       "}\n",
       "\n",
       ".xr-var-list > li:nth-child(odd) > div,\n",
       ".xr-var-list > li:nth-child(odd) > label,\n",
       ".xr-var-list > li:nth-child(odd) > .xr-var-name span {\n",
       "  background-color: var(--xr-background-color-row-odd);\n",
       "}\n",
       "\n",
       ".xr-var-name {\n",
       "  grid-column: 1;\n",
       "}\n",
       "\n",
       ".xr-var-dims {\n",
       "  grid-column: 2;\n",
       "}\n",
       "\n",
       ".xr-var-dtype {\n",
       "  grid-column: 3;\n",
       "  text-align: right;\n",
       "  color: var(--xr-font-color2);\n",
       "}\n",
       "\n",
       ".xr-var-preview {\n",
       "  grid-column: 4;\n",
       "}\n",
       "\n",
       ".xr-var-name,\n",
       ".xr-var-dims,\n",
       ".xr-var-dtype,\n",
       ".xr-preview,\n",
       ".xr-attrs dt {\n",
       "  white-space: nowrap;\n",
       "  overflow: hidden;\n",
       "  text-overflow: ellipsis;\n",
       "  padding-right: 10px;\n",
       "}\n",
       "\n",
       ".xr-var-name:hover,\n",
       ".xr-var-dims:hover,\n",
       ".xr-var-dtype:hover,\n",
       ".xr-attrs dt:hover {\n",
       "  overflow: visible;\n",
       "  width: auto;\n",
       "  z-index: 1;\n",
       "}\n",
       "\n",
       ".xr-var-attrs,\n",
       ".xr-var-data {\n",
       "  display: none;\n",
       "  background-color: var(--xr-background-color) !important;\n",
       "  padding-bottom: 5px !important;\n",
       "}\n",
       "\n",
       ".xr-var-attrs-in:checked ~ .xr-var-attrs,\n",
       ".xr-var-data-in:checked ~ .xr-var-data {\n",
       "  display: block;\n",
       "}\n",
       "\n",
       ".xr-var-data > table {\n",
       "  float: right;\n",
       "}\n",
       "\n",
       ".xr-var-name span,\n",
       ".xr-var-data,\n",
       ".xr-attrs {\n",
       "  padding-left: 25px !important;\n",
       "}\n",
       "\n",
       ".xr-attrs,\n",
       ".xr-var-attrs,\n",
       ".xr-var-data {\n",
       "  grid-column: 1 / -1;\n",
       "}\n",
       "\n",
       "dl.xr-attrs {\n",
       "  padding: 0;\n",
       "  margin: 0;\n",
       "  display: grid;\n",
       "  grid-template-columns: 125px auto;\n",
       "}\n",
       "\n",
       ".xr-attrs dt,\n",
       ".xr-attrs dd {\n",
       "  padding: 0;\n",
       "  margin: 0;\n",
       "  float: left;\n",
       "  padding-right: 10px;\n",
       "  width: auto;\n",
       "}\n",
       "\n",
       ".xr-attrs dt {\n",
       "  font-weight: normal;\n",
       "  grid-column: 1;\n",
       "}\n",
       "\n",
       ".xr-attrs dt:hover span {\n",
       "  display: inline-block;\n",
       "  background: var(--xr-background-color);\n",
       "  padding-right: 10px;\n",
       "}\n",
       "\n",
       ".xr-attrs dd {\n",
       "  grid-column: 2;\n",
       "  white-space: pre-wrap;\n",
       "  word-break: break-all;\n",
       "}\n",
       "\n",
       ".xr-icon-database,\n",
       ".xr-icon-file-text2 {\n",
       "  display: inline-block;\n",
       "  vertical-align: middle;\n",
       "  width: 1em;\n",
       "  height: 1.5em !important;\n",
       "  stroke-width: 0;\n",
       "  stroke: currentColor;\n",
       "  fill: currentColor;\n",
       "}\n",
       "</style><pre class='xr-text-repr-fallback'>&lt;xarray.Dataset&gt;\n",
       "Dimensions:           (theta: 13, energy: 6, lambda: 10, sign: 2, kys: 11,\n",
       "                       kyt: 11, kxs: 11, kxt: 11)\n",
       "Coordinates:\n",
       "  * theta             (theta) float64 -3.142 -2.618 -2.094 ... 2.094 2.618 3.142\n",
       "  * energy            (energy) float64 0.07939 1.562 4.921 6.666 8.544 12.54\n",
       "  * lambda            (lambda) float64 0.1388 0.534 0.783 ... 1.09 1.156 1.18\n",
       "  * sign              (sign) int64 0 1\n",
       "  * kys               (kys) float64 -1.0 -0.8 -0.6 -0.4 -0.2 ... 0.4 0.6 0.8 1.0\n",
       "  * kyt               (kyt) float64 -1.0 -0.8 -0.6 -0.4 -0.2 ... 0.4 0.6 0.8 1.0\n",
       "  * kxs               (kxs) float64 -1.005 -0.8042 -0.6032 ... 0.8042 1.005\n",
       "  * kxt               (kxt) float64 -1.005 -0.8042 -0.6032 ... 0.8042 1.005\n",
       "Data variables:\n",
       "    entropy_transfer  (theta, energy, lambda, sign, kys, kyt, kxs, kxt) float64 ...</pre><div class='xr-wrap' style='display:none'><div class='xr-header'><div class='xr-obj-type'>xarray.Dataset</div></div><ul class='xr-sections'><li class='xr-section-item'><input id='section-b46f4a6e-4915-47cc-befc-ae75e7862dec' class='xr-section-summary-in' type='checkbox' disabled ><label for='section-b46f4a6e-4915-47cc-befc-ae75e7862dec' class='xr-section-summary'  title='Expand/collapse section'>Dimensions:</label><div class='xr-section-inline-details'><ul class='xr-dim-list'><li><span class='xr-has-index'>theta</span>: 13</li><li><span class='xr-has-index'>energy</span>: 6</li><li><span class='xr-has-index'>lambda</span>: 10</li><li><span class='xr-has-index'>sign</span>: 2</li><li><span class='xr-has-index'>kys</span>: 11</li><li><span class='xr-has-index'>kyt</span>: 11</li><li><span class='xr-has-index'>kxs</span>: 11</li><li><span class='xr-has-index'>kxt</span>: 11</li></ul></div><div class='xr-section-details'></div></li><li class='xr-section-item'><input id='section-8d2e69d7-bc95-4e5a-97e1-1d9322d0aab0' class='xr-section-summary-in' type='checkbox'  checked><label for='section-8d2e69d7-bc95-4e5a-97e1-1d9322d0aab0' class='xr-section-summary' >Coordinates: <span>(8)</span></label><div class='xr-section-inline-details'></div><div class='xr-section-details'><ul class='xr-var-list'><li class='xr-var-item'><div class='xr-var-name'><span class='xr-has-index'>theta</span></div><div class='xr-var-dims'>(theta)</div><div class='xr-var-dtype'>float64</div><div class='xr-var-preview xr-preview'>-3.142 -2.618 ... 2.618 3.142</div><input id='attrs-5bf9b054-c122-4593-967d-fe26b4e4bde4' class='xr-var-attrs-in' type='checkbox' disabled><label for='attrs-5bf9b054-c122-4593-967d-fe26b4e4bde4' title='Show/Hide attributes'><svg class='icon xr-icon-file-text2'><use xlink:href='#icon-file-text2'></use></svg></label><input id='data-04cd16c0-8da6-4dc7-8740-a116fb32f725' class='xr-var-data-in' type='checkbox'><label for='data-04cd16c0-8da6-4dc7-8740-a116fb32f725' title='Show/Hide data repr'><svg class='icon xr-icon-database'><use xlink:href='#icon-database'></use></svg></label><div class='xr-var-attrs'><dl class='xr-attrs'></dl></div><div class='xr-var-data'><pre>array([-3.141593, -2.617994, -2.094395, -1.570796, -1.047198, -0.523599,\n",
       "        0.      ,  0.523599,  1.047198,  1.570796,  2.094395,  2.617994,\n",
       "        3.141593])</pre></div></li><li class='xr-var-item'><div class='xr-var-name'><span class='xr-has-index'>energy</span></div><div class='xr-var-dims'>(energy)</div><div class='xr-var-dtype'>float64</div><div class='xr-var-preview xr-preview'>0.07939 1.562 4.921 ... 8.544 12.54</div><input id='attrs-3b47f253-4fa1-43ec-9a9d-ba2f0bf9f586' class='xr-var-attrs-in' type='checkbox' disabled><label for='attrs-3b47f253-4fa1-43ec-9a9d-ba2f0bf9f586' title='Show/Hide attributes'><svg class='icon xr-icon-file-text2'><use xlink:href='#icon-file-text2'></use></svg></label><input id='data-46df60e7-befa-4c00-986a-7328db1e99ff' class='xr-var-data-in' type='checkbox'><label for='data-46df60e7-befa-4c00-986a-7328db1e99ff' title='Show/Hide data repr'><svg class='icon xr-icon-database'><use xlink:href='#icon-database'></use></svg></label><div class='xr-var-attrs'><dl class='xr-attrs'></dl></div><div class='xr-var-data'><pre>array([ 0.079385,  1.5625  ,  4.920615,  6.665775,  8.54428 , 12.539945])</pre></div></li><li class='xr-var-item'><div class='xr-var-name'><span class='xr-has-index'>lambda</span></div><div class='xr-var-dims'>(lambda)</div><div class='xr-var-dtype'>float64</div><div class='xr-var-preview xr-preview'>0.1388 0.534 0.783 ... 1.156 1.18</div><input id='attrs-d93a1acb-cee7-47c2-86d6-c06116582e76' class='xr-var-attrs-in' type='checkbox' disabled><label for='attrs-d93a1acb-cee7-47c2-86d6-c06116582e76' title='Show/Hide attributes'><svg class='icon xr-icon-file-text2'><use xlink:href='#icon-file-text2'></use></svg></label><input id='data-454782c7-b0e0-457b-80de-73990db290f3' class='xr-var-data-in' type='checkbox'><label for='data-454782c7-b0e0-457b-80de-73990db290f3' title='Show/Hide data repr'><svg class='icon xr-icon-database'><use xlink:href='#icon-database'></use></svg></label><div class='xr-var-attrs'><dl class='xr-attrs'></dl></div><div class='xr-var-data'><pre>array([0.138849, 0.534042, 0.783027, 0.82    , 0.844115, 0.91    , 1.      ,\n",
       "       1.09    , 1.155885, 1.18    ])</pre></div></li><li class='xr-var-item'><div class='xr-var-name'><span class='xr-has-index'>sign</span></div><div class='xr-var-dims'>(sign)</div><div class='xr-var-dtype'>int64</div><div class='xr-var-preview xr-preview'>0 1</div><input id='attrs-8933ed07-227e-467d-9f36-36e4290aaddd' class='xr-var-attrs-in' type='checkbox' disabled><label for='attrs-8933ed07-227e-467d-9f36-36e4290aaddd' title='Show/Hide attributes'><svg class='icon xr-icon-file-text2'><use xlink:href='#icon-file-text2'></use></svg></label><input id='data-4393e688-4f66-4fee-b944-c06a1a5f6be1' class='xr-var-data-in' type='checkbox'><label for='data-4393e688-4f66-4fee-b944-c06a1a5f6be1' title='Show/Hide data repr'><svg class='icon xr-icon-database'><use xlink:href='#icon-database'></use></svg></label><div class='xr-var-attrs'><dl class='xr-attrs'></dl></div><div class='xr-var-data'><pre>array([0, 1])</pre></div></li><li class='xr-var-item'><div class='xr-var-name'><span class='xr-has-index'>kys</span></div><div class='xr-var-dims'>(kys)</div><div class='xr-var-dtype'>float64</div><div class='xr-var-preview xr-preview'>-1.0 -0.8 -0.6 -0.4 ... 0.6 0.8 1.0</div><input id='attrs-16963acf-fdaa-4e6c-a9c6-a2324d8fc7bf' class='xr-var-attrs-in' type='checkbox' disabled><label for='attrs-16963acf-fdaa-4e6c-a9c6-a2324d8fc7bf' title='Show/Hide attributes'><svg class='icon xr-icon-file-text2'><use xlink:href='#icon-file-text2'></use></svg></label><input id='data-03deb17e-08b7-4a0e-a691-97805dc82fe1' class='xr-var-data-in' type='checkbox'><label for='data-03deb17e-08b7-4a0e-a691-97805dc82fe1' title='Show/Hide data repr'><svg class='icon xr-icon-database'><use xlink:href='#icon-database'></use></svg></label><div class='xr-var-attrs'><dl class='xr-attrs'></dl></div><div class='xr-var-data'><pre>array([-1. , -0.8, -0.6, -0.4, -0.2,  0. ,  0.2,  0.4,  0.6,  0.8,  1. ])</pre></div></li><li class='xr-var-item'><div class='xr-var-name'><span class='xr-has-index'>kyt</span></div><div class='xr-var-dims'>(kyt)</div><div class='xr-var-dtype'>float64</div><div class='xr-var-preview xr-preview'>-1.0 -0.8 -0.6 -0.4 ... 0.6 0.8 1.0</div><input id='attrs-889f289a-68c7-4e5e-98ab-fb01f1aee073' class='xr-var-attrs-in' type='checkbox' disabled><label for='attrs-889f289a-68c7-4e5e-98ab-fb01f1aee073' title='Show/Hide attributes'><svg class='icon xr-icon-file-text2'><use xlink:href='#icon-file-text2'></use></svg></label><input id='data-ba1e2d6f-c205-4865-b23f-3000e5bb7df5' class='xr-var-data-in' type='checkbox'><label for='data-ba1e2d6f-c205-4865-b23f-3000e5bb7df5' title='Show/Hide data repr'><svg class='icon xr-icon-database'><use xlink:href='#icon-database'></use></svg></label><div class='xr-var-attrs'><dl class='xr-attrs'></dl></div><div class='xr-var-data'><pre>array([-1. , -0.8, -0.6, -0.4, -0.2,  0. ,  0.2,  0.4,  0.6,  0.8,  1. ])</pre></div></li><li class='xr-var-item'><div class='xr-var-name'><span class='xr-has-index'>kxs</span></div><div class='xr-var-dims'>(kxs)</div><div class='xr-var-dtype'>float64</div><div class='xr-var-preview xr-preview'>-1.005 -0.8042 ... 0.8042 1.005</div><input id='attrs-63d8ed07-fc61-44fa-8fae-66c1caec68b7' class='xr-var-attrs-in' type='checkbox' disabled><label for='attrs-63d8ed07-fc61-44fa-8fae-66c1caec68b7' title='Show/Hide attributes'><svg class='icon xr-icon-file-text2'><use xlink:href='#icon-file-text2'></use></svg></label><input id='data-721c0df0-0b32-4756-a211-35c258afef6b' class='xr-var-data-in' type='checkbox'><label for='data-721c0df0-0b32-4756-a211-35c258afef6b' title='Show/Hide data repr'><svg class='icon xr-icon-database'><use xlink:href='#icon-database'></use></svg></label><div class='xr-var-attrs'><dl class='xr-attrs'></dl></div><div class='xr-var-data'><pre>array([-1.00531 , -0.804248, -0.603186, -0.402124, -0.201062,  0.      ,\n",
       "        0.201062,  0.402124,  0.603186,  0.804248,  1.00531 ])</pre></div></li><li class='xr-var-item'><div class='xr-var-name'><span class='xr-has-index'>kxt</span></div><div class='xr-var-dims'>(kxt)</div><div class='xr-var-dtype'>float64</div><div class='xr-var-preview xr-preview'>-1.005 -0.8042 ... 0.8042 1.005</div><input id='attrs-728c9d1f-b577-4cf0-8f49-eb2f3f16f107' class='xr-var-attrs-in' type='checkbox' disabled><label for='attrs-728c9d1f-b577-4cf0-8f49-eb2f3f16f107' title='Show/Hide attributes'><svg class='icon xr-icon-file-text2'><use xlink:href='#icon-file-text2'></use></svg></label><input id='data-b92a4166-d674-482b-8ecf-7a7ca5f82b4f' class='xr-var-data-in' type='checkbox'><label for='data-b92a4166-d674-482b-8ecf-7a7ca5f82b4f' title='Show/Hide data repr'><svg class='icon xr-icon-database'><use xlink:href='#icon-database'></use></svg></label><div class='xr-var-attrs'><dl class='xr-attrs'></dl></div><div class='xr-var-data'><pre>array([-1.00531 , -0.804248, -0.603186, -0.402124, -0.201062,  0.      ,\n",
       "        0.201062,  0.402124,  0.603186,  0.804248,  1.00531 ])</pre></div></li></ul></div></li><li class='xr-section-item'><input id='section-6ab8097f-c9ab-4ebf-96a1-39d5dda42c6a' class='xr-section-summary-in' type='checkbox'  checked><label for='section-6ab8097f-c9ab-4ebf-96a1-39d5dda42c6a' class='xr-section-summary' >Data variables: <span>(1)</span></label><div class='xr-section-inline-details'></div><div class='xr-section-details'><ul class='xr-var-list'><li class='xr-var-item'><div class='xr-var-name'><span>entropy_transfer</span></div><div class='xr-var-dims'>(theta, energy, lambda, sign, kys, kyt, kxs, kxt)</div><div class='xr-var-dtype'>float64</div><div class='xr-var-preview xr-preview'>0.0 -0.0 -0.0 ... -0.0 -0.0 0.0</div><input id='attrs-1918d59e-8216-470c-bc8b-58b48b934341' class='xr-var-attrs-in' type='checkbox' disabled><label for='attrs-1918d59e-8216-470c-bc8b-58b48b934341' title='Show/Hide attributes'><svg class='icon xr-icon-file-text2'><use xlink:href='#icon-file-text2'></use></svg></label><input id='data-5a54a649-bda0-45da-bd03-11eba0a628df' class='xr-var-data-in' type='checkbox'><label for='data-5a54a649-bda0-45da-bd03-11eba0a628df' title='Show/Hide data repr'><svg class='icon xr-icon-database'><use xlink:href='#icon-database'></use></svg></label><div class='xr-var-attrs'><dl class='xr-attrs'></dl></div><div class='xr-var-data'><pre>array([[[[[[[[ 0.00000000e+00, -0.00000000e+00, -0.00000000e+00,\n",
       "              ..., -0.00000000e+00, -0.00000000e+00,\n",
       "              -0.00000000e+00],\n",
       "             [ 0.00000000e+00,  0.00000000e+00, -0.00000000e+00,\n",
       "              ..., -0.00000000e+00, -0.00000000e+00,\n",
       "              -0.00000000e+00],\n",
       "             [ 0.00000000e+00,  0.00000000e+00,  0.00000000e+00,\n",
       "              ..., -0.00000000e+00, -0.00000000e+00,\n",
       "              -0.00000000e+00],\n",
       "             ...,\n",
       "             [ 0.00000000e+00,  0.00000000e+00,  0.00000000e+00,\n",
       "              ...,  0.00000000e+00, -0.00000000e+00,\n",
       "              -0.00000000e+00],\n",
       "             [ 0.00000000e+00,  0.00000000e+00,  0.00000000e+00,\n",
       "              ...,  0.00000000e+00,  0.00000000e+00,\n",
       "              -0.00000000e+00],\n",
       "             [ 0.00000000e+00,  0.00000000e+00,  0.00000000e+00,\n",
       "              ...,  0.00000000e+00,  0.00000000e+00,\n",
       "               0.00000000e+00]],\n",
       "\n",
       "...\n",
       "\n",
       "            [[ 0.00000000e+00,  0.00000000e+00,  0.00000000e+00,\n",
       "              ...,  0.00000000e+00,  0.00000000e+00,\n",
       "               0.00000000e+00],\n",
       "             [-0.00000000e+00,  0.00000000e+00,  0.00000000e+00,\n",
       "              ...,  0.00000000e+00,  0.00000000e+00,\n",
       "               0.00000000e+00],\n",
       "             [-0.00000000e+00, -0.00000000e+00,  0.00000000e+00,\n",
       "              ...,  0.00000000e+00,  0.00000000e+00,\n",
       "               0.00000000e+00],\n",
       "             ...,\n",
       "             [-0.00000000e+00, -0.00000000e+00, -0.00000000e+00,\n",
       "              ...,  0.00000000e+00,  0.00000000e+00,\n",
       "               0.00000000e+00],\n",
       "             [-0.00000000e+00, -0.00000000e+00, -0.00000000e+00,\n",
       "              ..., -0.00000000e+00,  0.00000000e+00,\n",
       "               0.00000000e+00],\n",
       "             [-0.00000000e+00, -0.00000000e+00, -0.00000000e+00,\n",
       "              ..., -0.00000000e+00, -0.00000000e+00,\n",
       "               0.00000000e+00]]]]]]]])</pre></div></li></ul></div></li><li class='xr-section-item'><input id='section-aed624dc-bf89-4dc0-ab18-c403ca4de4fd' class='xr-section-summary-in' type='checkbox' disabled ><label for='section-aed624dc-bf89-4dc0-ab18-c403ca4de4fd' class='xr-section-summary'  title='Expand/collapse section'>Attributes: <span>(0)</span></label><div class='xr-section-inline-details'></div><div class='xr-section-details'><dl class='xr-attrs'></dl></div></li></ul></div></div>"
      ],
      "text/plain": [
       "<xarray.Dataset>\n",
       "Dimensions:           (theta: 13, energy: 6, lambda: 10, sign: 2, kys: 11,\n",
       "                       kyt: 11, kxs: 11, kxt: 11)\n",
       "Coordinates:\n",
       "  * theta             (theta) float64 -3.142 -2.618 -2.094 ... 2.094 2.618 3.142\n",
       "  * energy            (energy) float64 0.07939 1.562 4.921 6.666 8.544 12.54\n",
       "  * lambda            (lambda) float64 0.1388 0.534 0.783 ... 1.09 1.156 1.18\n",
       "  * sign              (sign) int64 0 1\n",
       "  * kys               (kys) float64 -1.0 -0.8 -0.6 -0.4 -0.2 ... 0.4 0.6 0.8 1.0\n",
       "  * kyt               (kyt) float64 -1.0 -0.8 -0.6 -0.4 -0.2 ... 0.4 0.6 0.8 1.0\n",
       "  * kxs               (kxs) float64 -1.005 -0.8042 -0.6032 ... 0.8042 1.005\n",
       "  * kxt               (kxt) float64 -1.005 -0.8042 -0.6032 ... 0.8042 1.005\n",
       "Data variables:\n",
       "    entropy_transfer  (theta, energy, lambda, sign, kys, kyt, kxs, kxt) float64 ..."
      ]
     },
     "execution_count": 7,
     "metadata": {},
     "output_type": "execute_result"
    }
   ],
   "source": [
    "S_transfer_python"
   ]
  },
  {
   "cell_type": "code",
   "execution_count": 8,
   "id": "0209d0a1-eaf0-4296-a702-c0a14f5b90d7",
   "metadata": {},
   "outputs": [
    {
     "data": {
      "text/plain": [
       "(13, 6, 10, 2, 11, 11, 11, 11)"
      ]
     },
     "execution_count": 8,
     "metadata": {},
     "output_type": "execute_result"
    }
   ],
   "source": [
    "S_transfer_python[\"entropy_transfer\"].shape"
   ]
  },
  {
   "cell_type": "code",
   "execution_count": 9,
   "id": "4fa2cb2d-7df5-4f21-aee4-db31bd3427e4",
   "metadata": {},
   "outputs": [],
   "source": [
    "S_transfer_python_sum = np.sum(S_transfer_python[\"entropy_transfer\"],axis=(0,1,2,3))\n",
    "\n",
    "#take out result of ky >= 0, negative kys result is symmetric to positive ones\n",
    "ky = S_transfer_python[\"kys\"].values\n",
    "nky = len(ky)\n",
    "iky0 = np.argmin(np.abs(ky))\n",
    "\n",
    "S_transfer_python_sum = S_transfer_python_sum[iky0:,iky0:,:,:]"
   ]
  },
  {
   "cell_type": "code",
   "execution_count": 10,
   "id": "057e4934-b197-4f1b-b317-6ca62f066908",
   "metadata": {},
   "outputs": [
    {
     "data": {
      "text/plain": [
       "((6, 6, 11, 11), (7, 6, 6, 11, 11))"
      ]
     },
     "execution_count": 10,
     "metadata": {},
     "output_type": "execute_result"
    }
   ],
   "source": [
    "S_transfer_python_sum.shape, S_transfer.shape"
   ]
  },
  {
   "cell_type": "markdown",
   "id": "c61a9ae0-8608-4ec7-855a-d0c9e884d1e7",
   "metadata": {},
   "source": [
    "### compare random values for impression"
   ]
  },
  {
   "cell_type": "code",
   "execution_count": 11,
   "id": "d7cd9564-28a7-479d-85c4-924e183dc83a",
   "metadata": {},
   "outputs": [],
   "source": [
    "#S_transfer_python_sum[2,1,:,:]"
   ]
  },
  {
   "cell_type": "code",
   "execution_count": 12,
   "id": "6c4b179e-1775-4ed9-af23-3de74ed2f744",
   "metadata": {},
   "outputs": [],
   "source": [
    "#S_transfer[-1,2,1,:,:]"
   ]
  },
  {
   "cell_type": "markdown",
   "id": "e49bcadc-c90f-4f2e-b09a-fa64d6a05a2c",
   "metadata": {},
   "source": [
    "### compare both fully up to certain sensible certainty"
   ]
  },
  {
   "cell_type": "code",
   "execution_count": 13,
   "id": "bf6609de-1f33-4b1b-96ab-1e1ccb47ce7a",
   "metadata": {},
   "outputs": [
    {
     "data": {
      "text/plain": [
       "True"
      ]
     },
     "execution_count": 13,
     "metadata": {},
     "output_type": "execute_result"
    }
   ],
   "source": [
    "A = np.round(S_transfer[-1,:,:,:,:],8)\n",
    "B = np.round(S_transfer_python_sum.values,8)\n",
    "\n",
    "(A==B).all()"
   ]
  },
  {
   "cell_type": "markdown",
   "id": "8b603d9e-e562-46b3-98af-1342a3b7b443",
   "metadata": {},
   "source": [
    "-> implementation works. Comparison script: crossTest.py"
   ]
  },
  {
   "cell_type": "markdown",
   "id": "0d9f7566-a4f2-4bb9-94ef-39d008241ae7",
   "metadata": {},
   "source": [
    "### test symmetries"
   ]
  },
  {
   "cell_type": "code",
   "execution_count": 14,
   "id": "16d19f37-0e7a-4c23-ada2-5767f93cbaea",
   "metadata": {},
   "outputs": [],
   "source": [
    "S_transfer_python_sum = np.sum(S_transfer_python[\"entropy_transfer\"],axis=(0,1,2,3))"
   ]
  },
  {
   "cell_type": "code",
   "execution_count": 15,
   "id": "4828fd3b-dd4a-42a0-8a2d-73ed8e929e8a",
   "metadata": {},
   "outputs": [
    {
     "data": {
      "text/plain": [
       "(11, 11, 11, 11)"
      ]
     },
     "execution_count": 15,
     "metadata": {},
     "output_type": "execute_result"
    }
   ],
   "source": [
    "S_transfer_python_sum.shape"
   ]
  },
  {
   "cell_type": "code",
   "execution_count": 16,
   "id": "d634cc58-284d-4dd6-a2a9-5080eafd4026",
   "metadata": {},
   "outputs": [],
   "source": [
    "kx = S_transfer_python[\"kxs\"].values\n",
    "ky = S_transfer_python[\"kys\"].values\n",
    "nkx = len(kx)\n",
    "nky = len(ky)"
   ]
  },
  {
   "cell_type": "code",
   "execution_count": 17,
   "id": "4c2442f6-f963-408c-bd60-502240273cd8",
   "metadata": {},
   "outputs": [],
   "source": [
    "import sys\n",
    "sys.path.append('/users/tms535/Developer/zonal-transfer-functions/entropy_transfer/local_Mac_testing/indexing-sym/')\n",
    "import helpers"
   ]
  },
  {
   "cell_type": "code",
   "execution_count": 20,
   "id": "0e918f93-abc2-401f-823a-0fe8f3b28865",
   "metadata": {},
   "outputs": [
    {
     "name": "stderr",
     "output_type": "stream",
     "text": [
      "  0%|                                                                                                                                                         | 0/11 [00:00<?, ?it/s]"
     ]
    },
    {
     "name": "stdout",
     "output_type": "stream",
     "text": [
      "error -0.0002505441199288141 -0.00022197618657027096 -2.8567933358543163e-05\n",
      "error -0.0006805058283845811 -0.0005517982647719011 -0.00012870756361268\n",
      "error -0.0007697786323221668 -0.0005874482766137931 -0.00018233035570837364\n",
      "error -0.0005450760540988715 -0.0004014857224678499 -0.00014359033163102155\n",
      "error -0.0003527729106645687 -0.00025682887483681363 -9.594403582775508e-05\n",
      "error -0.00022197618657027096 -0.0002505441199288141 2.8567933358543163e-05\n",
      "error -0.0002293290443507243 -0.00020988691829841697 -1.944212605230734e-05\n",
      "error -0.0005247272260954304 -0.0004519758284847492 -7.275139761068116e-05\n",
      "error -0.0005288345020671285 -0.00043965357839340243 -8.918092367372606e-05\n",
      "error -0.0004323911502193688 -0.00035530657631902284 -7.708457390034597e-05\n",
      "error -0.00046817007914199034 -0.0003892194056683756 -7.895067347361476e-05\n"
     ]
    },
    {
     "name": "stderr",
     "output_type": "stream",
     "text": [
      "\n"
     ]
    },
    {
     "data": {
      "text/plain": [
       "False"
      ]
     },
     "execution_count": 20,
     "metadata": {},
     "output_type": "execute_result"
    }
   ],
   "source": [
    "helpers.symmetry_test1(kx,ky,S_transfer_python_sum.values,rel_tol=0.0)"
   ]
  },
  {
   "cell_type": "code",
   "execution_count": 21,
   "id": "0f23e207-f68a-4a72-993c-44605ef22036",
   "metadata": {},
   "outputs": [
    {
     "name": "stderr",
     "output_type": "stream",
     "text": [
      "100%|████████████████████████████████████████████████████████████████████████████████████████████████████████████████████████████████████████████████| 11/11 [00:00<00:00, 49.95it/s]\n"
     ]
    },
    {
     "data": {
      "text/plain": [
       "True"
      ]
     },
     "execution_count": 21,
     "metadata": {},
     "output_type": "execute_result"
    }
   ],
   "source": [
    "helpers.symmetry_test2(kx,ky,S_transfer_python_sum.values)"
   ]
  },
  {
   "cell_type": "code",
   "execution_count": 22,
   "id": "73b98f92-0cb9-4f24-a54c-907ad115f12d",
   "metadata": {},
   "outputs": [
    {
     "name": "stderr",
     "output_type": "stream",
     "text": [
      "  0%|                                                                                                                                                         | 0/11 [00:00<?, ?it/s]"
     ]
    },
    {
     "name": "stdout",
     "output_type": "stream",
     "text": [
      "error 0.00012452528388817713 -1.0902432984104503e-05 0.00013542771687228165\n",
      "error 0.0004684774450956484 0.00011496768524228045 0.00035350975985336795\n",
      "error 0.0004444168964039152 0.0001549722241543326 0.0002894446722495826\n",
      "error 5.704443555531189e-05 -4.390769700846089e-06 6.143520525615797e-05\n",
      "error -0.0003210305040362371 -0.0002336485662317654 -8.73819378044717e-05\n",
      "error -0.00020260301027512703 -0.00023823856355679958 3.5635553281672546e-05\n",
      "error 7.063295798339777e-05 -1.935547043717952e-05 8.998842842057729e-05\n",
      "error 0.00024506625065912513 5.2234528239367926e-05 0.0001928317224197572\n",
      "error 0.00013785926896914714 2.046053243103577e-05 0.00011739873653811136\n",
      "error -0.0001584779256323399 -0.0001514138232578941 -7.064102374445793e-06\n",
      "error -0.0003912883234021455 -0.0003258498759765087 -6.543844742563682e-05\n"
     ]
    },
    {
     "name": "stderr",
     "output_type": "stream",
     "text": [
      "\n"
     ]
    },
    {
     "data": {
      "text/plain": [
       "False"
      ]
     },
     "execution_count": 22,
     "metadata": {},
     "output_type": "execute_result"
    }
   ],
   "source": [
    "helpers.symmetry_test3(kx,ky,S_transfer_python_sum.values)"
   ]
  }
 ],
 "metadata": {
  "kernelspec": {
   "display_name": "Python 3 (ipykernel)",
   "language": "python",
   "name": "python3"
  },
  "language_info": {
   "codemirror_mode": {
    "name": "ipython",
    "version": 3
   },
   "file_extension": ".py",
   "mimetype": "text/x-python",
   "name": "python",
   "nbconvert_exporter": "python",
   "pygments_lexer": "ipython3",
   "version": "3.9.13"
  }
 },
 "nbformat": 4,
 "nbformat_minor": 5
}
