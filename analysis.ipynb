{
 "cells": [
  {
   "cell_type": "code",
   "execution_count": 1,
   "id": "c923d3bf-78a0-4537-b112-efb06f3b01c2",
   "metadata": {},
   "outputs": [],
   "source": [
    "import netCDF4 as nc\n",
    "import numpy.ma as ma\n",
    "import matplotlib.pyplot as plt\n",
    "import numpy as np\n",
    "\n",
    "import warnings\n",
    "warnings.filterwarnings(\"ignore\", category=DeprecationWarning)"
   ]
  },
  {
   "cell_type": "code",
   "execution_count": 2,
   "id": "e5a4db88-20db-4eb4-a6f8-d6062dfacfd4",
   "metadata": {},
   "outputs": [],
   "source": [
    "data = nc.Dataset(\"nlinear1/c1.out.nc\")"
   ]
  },
  {
   "cell_type": "code",
   "execution_count": 14,
   "id": "b118f709-5aa4-4f41-b5fe-2d9cbc2ed320",
   "metadata": {},
   "outputs": [],
   "source": [
    "#data"
   ]
  },
  {
   "cell_type": "code",
   "execution_count": 4,
   "id": "523667e8-fb13-452a-9715-0833415c97b6",
   "metadata": {},
   "outputs": [
    {
     "data": {
      "text/plain": [
       "<class 'netCDF4._netCDF4.Variable'>\n",
       "float64 zonal_transfer(t, ky, kx, ri)\n",
       "    description: Time rate of change of free energy due to nonlinear transfer, as a function of kx, ky and time\n",
       "    units: Tr2*rhor*c*ns*vth6 / Ba2*e*a3\n",
       "unlimited dimensions: t\n",
       "current shape = (7, 6, 11, 2)\n",
       "filling on, default _FillValue of 9.969209968386869e+36 used"
      ]
     },
     "execution_count": 4,
     "metadata": {},
     "output_type": "execute_result"
    }
   ],
   "source": [
    "data[\"zonal_transfer\"]"
   ]
  },
  {
   "cell_type": "code",
   "execution_count": 5,
   "id": "ee8cf4d8-9b57-4a06-8688-5b2c464dd705",
   "metadata": {},
   "outputs": [
    {
     "data": {
      "text/plain": [
       "<class 'netCDF4._netCDF4.Variable'>\n",
       "float64 entropy_transfer(t, ky, kx)\n",
       "    description: real valued test output, as a function of kx, ky and time\n",
       "    units: no units\n",
       "unlimited dimensions: t\n",
       "current shape = (7, 6, 11)\n",
       "filling on, default _FillValue of 9.969209968386869e+36 used"
      ]
     },
     "execution_count": 5,
     "metadata": {},
     "output_type": "execute_result"
    }
   ],
   "source": [
    "data[\"entropy_transfer\"]"
   ]
  },
  {
   "cell_type": "code",
   "execution_count": 15,
   "id": "b12d4747-7f04-465e-a694-bfaf0d776ba6",
   "metadata": {},
   "outputs": [
    {
     "data": {
      "text/plain": [
       "masked_array(data=[1., 1., 1., 1., 1., 1., 1.],\n",
       "             mask=False,\n",
       "       fill_value=1e+20)"
      ]
     },
     "execution_count": 15,
     "metadata": {},
     "output_type": "execute_result"
    }
   ],
   "source": [
    "data[\"entropy_transfer\"][:,0,-1]"
   ]
  },
  {
   "cell_type": "markdown",
   "id": "5e32463f-ca99-4759-b537-ecae7397d980",
   "metadata": {},
   "source": [
    "**-> basic integration of dummy diagnostic with \"fake calculation\" works**"
   ]
  },
  {
   "cell_type": "code",
   "execution_count": null,
   "id": "1122c73e-3574-4f13-8f15-506d8f1163a9",
   "metadata": {},
   "outputs": [],
   "source": []
  }
 ],
 "metadata": {
  "kernelspec": {
   "display_name": "Python 3 (ipykernel)",
   "language": "python",
   "name": "python3"
  },
  "language_info": {
   "codemirror_mode": {
    "name": "ipython",
    "version": 3
   },
   "file_extension": ".py",
   "mimetype": "text/x-python",
   "name": "python",
   "nbconvert_exporter": "python",
   "pygments_lexer": "ipython3",
   "version": "3.8.2"
  }
 },
 "nbformat": 4,
 "nbformat_minor": 5
}
