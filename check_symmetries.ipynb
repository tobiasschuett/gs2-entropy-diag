{
 "cells": [
  {
   "cell_type": "code",
   "execution_count": 101,
   "id": "f848dd76-e537-465d-9b32-c3737c293687",
   "metadata": {},
   "outputs": [],
   "source": [
    "import matplotlib.pyplot as plt\n",
    "import numpy as np\n",
    "import xarray as xr\n",
    "from matplotlib.colors import CenteredNorm, SymLogNorm\n",
    "\n",
    "plt.rcParams[\"image.cmap\"] = 'RdBu_r'\n",
    "plt.rcParams[\"figure.figsize\"] = (4,3)"
   ]
  },
  {
   "cell_type": "code",
   "execution_count": 81,
   "id": "4f3c2de7-ac2e-46c7-9cf1-d5b27d2bc532",
   "metadata": {},
   "outputs": [],
   "source": [
    "FILENAME = \"entropy_transfer.nc\"\n",
    "\n",
    "transfer = xr.open_dataset(FILENAME)"
   ]
  },
  {
   "cell_type": "code",
   "execution_count": 82,
   "id": "0c3d3f40-f2ad-4cfa-97c9-f873b09699a5",
   "metadata": {},
   "outputs": [],
   "source": [
    "#transfer.close()"
   ]
  },
  {
   "cell_type": "code",
   "execution_count": 111,
   "id": "d00a4f57-1563-4635-b698-637f995fa48a",
   "metadata": {},
   "outputs": [
    {
     "name": "stdout",
     "output_type": "stream",
     "text": [
      "/users/tms535/Developer/gs2-entropy-diag\n"
     ]
    }
   ],
   "source": [
    "!pwd"
   ]
  },
  {
   "cell_type": "code",
   "execution_count": 110,
   "id": "02b9f1e4-0ccd-4ede-9273-0361c1fc1fab",
   "metadata": {},
   "outputs": [
    {
     "data": {
      "text/html": [
       "<div><svg style=\"position: absolute; width: 0; height: 0; overflow: hidden\">\n",
       "<defs>\n",
       "<symbol id=\"icon-database\" viewBox=\"0 0 32 32\">\n",
       "<path d=\"M16 0c-8.837 0-16 2.239-16 5v4c0 2.761 7.163 5 16 5s16-2.239 16-5v-4c0-2.761-7.163-5-16-5z\"></path>\n",
       "<path d=\"M16 17c-8.837 0-16-2.239-16-5v6c0 2.761 7.163 5 16 5s16-2.239 16-5v-6c0 2.761-7.163 5-16 5z\"></path>\n",
       "<path d=\"M16 26c-8.837 0-16-2.239-16-5v6c0 2.761 7.163 5 16 5s16-2.239 16-5v-6c0 2.761-7.163 5-16 5z\"></path>\n",
       "</symbol>\n",
       "<symbol id=\"icon-file-text2\" viewBox=\"0 0 32 32\">\n",
       "<path d=\"M28.681 7.159c-0.694-0.947-1.662-2.053-2.724-3.116s-2.169-2.030-3.116-2.724c-1.612-1.182-2.393-1.319-2.841-1.319h-15.5c-1.378 0-2.5 1.121-2.5 2.5v27c0 1.378 1.122 2.5 2.5 2.5h23c1.378 0 2.5-1.122 2.5-2.5v-19.5c0-0.448-0.137-1.23-1.319-2.841zM24.543 5.457c0.959 0.959 1.712 1.825 2.268 2.543h-4.811v-4.811c0.718 0.556 1.584 1.309 2.543 2.268zM28 29.5c0 0.271-0.229 0.5-0.5 0.5h-23c-0.271 0-0.5-0.229-0.5-0.5v-27c0-0.271 0.229-0.5 0.5-0.5 0 0 15.499-0 15.5 0v7c0 0.552 0.448 1 1 1h7v19.5z\"></path>\n",
       "<path d=\"M23 26h-14c-0.552 0-1-0.448-1-1s0.448-1 1-1h14c0.552 0 1 0.448 1 1s-0.448 1-1 1z\"></path>\n",
       "<path d=\"M23 22h-14c-0.552 0-1-0.448-1-1s0.448-1 1-1h14c0.552 0 1 0.448 1 1s-0.448 1-1 1z\"></path>\n",
       "<path d=\"M23 18h-14c-0.552 0-1-0.448-1-1s0.448-1 1-1h14c0.552 0 1 0.448 1 1s-0.448 1-1 1z\"></path>\n",
       "</symbol>\n",
       "</defs>\n",
       "</svg>\n",
       "<style>/* CSS stylesheet for displaying xarray objects in jupyterlab.\n",
       " *\n",
       " */\n",
       "\n",
       ":root {\n",
       "  --xr-font-color0: var(--jp-content-font-color0, rgba(0, 0, 0, 1));\n",
       "  --xr-font-color2: var(--jp-content-font-color2, rgba(0, 0, 0, 0.54));\n",
       "  --xr-font-color3: var(--jp-content-font-color3, rgba(0, 0, 0, 0.38));\n",
       "  --xr-border-color: var(--jp-border-color2, #e0e0e0);\n",
       "  --xr-disabled-color: var(--jp-layout-color3, #bdbdbd);\n",
       "  --xr-background-color: var(--jp-layout-color0, white);\n",
       "  --xr-background-color-row-even: var(--jp-layout-color1, white);\n",
       "  --xr-background-color-row-odd: var(--jp-layout-color2, #eeeeee);\n",
       "}\n",
       "\n",
       "html[theme=dark],\n",
       "body[data-theme=dark],\n",
       "body.vscode-dark {\n",
       "  --xr-font-color0: rgba(255, 255, 255, 1);\n",
       "  --xr-font-color2: rgba(255, 255, 255, 0.54);\n",
       "  --xr-font-color3: rgba(255, 255, 255, 0.38);\n",
       "  --xr-border-color: #1F1F1F;\n",
       "  --xr-disabled-color: #515151;\n",
       "  --xr-background-color: #111111;\n",
       "  --xr-background-color-row-even: #111111;\n",
       "  --xr-background-color-row-odd: #313131;\n",
       "}\n",
       "\n",
       ".xr-wrap {\n",
       "  display: block !important;\n",
       "  min-width: 300px;\n",
       "  max-width: 700px;\n",
       "}\n",
       "\n",
       ".xr-text-repr-fallback {\n",
       "  /* fallback to plain text repr when CSS is not injected (untrusted notebook) */\n",
       "  display: none;\n",
       "}\n",
       "\n",
       ".xr-header {\n",
       "  padding-top: 6px;\n",
       "  padding-bottom: 6px;\n",
       "  margin-bottom: 4px;\n",
       "  border-bottom: solid 1px var(--xr-border-color);\n",
       "}\n",
       "\n",
       ".xr-header > div,\n",
       ".xr-header > ul {\n",
       "  display: inline;\n",
       "  margin-top: 0;\n",
       "  margin-bottom: 0;\n",
       "}\n",
       "\n",
       ".xr-obj-type,\n",
       ".xr-array-name {\n",
       "  margin-left: 2px;\n",
       "  margin-right: 10px;\n",
       "}\n",
       "\n",
       ".xr-obj-type {\n",
       "  color: var(--xr-font-color2);\n",
       "}\n",
       "\n",
       ".xr-sections {\n",
       "  padding-left: 0 !important;\n",
       "  display: grid;\n",
       "  grid-template-columns: 150px auto auto 1fr 20px 20px;\n",
       "}\n",
       "\n",
       ".xr-section-item {\n",
       "  display: contents;\n",
       "}\n",
       "\n",
       ".xr-section-item input {\n",
       "  display: none;\n",
       "}\n",
       "\n",
       ".xr-section-item input + label {\n",
       "  color: var(--xr-disabled-color);\n",
       "}\n",
       "\n",
       ".xr-section-item input:enabled + label {\n",
       "  cursor: pointer;\n",
       "  color: var(--xr-font-color2);\n",
       "}\n",
       "\n",
       ".xr-section-item input:enabled + label:hover {\n",
       "  color: var(--xr-font-color0);\n",
       "}\n",
       "\n",
       ".xr-section-summary {\n",
       "  grid-column: 1;\n",
       "  color: var(--xr-font-color2);\n",
       "  font-weight: 500;\n",
       "}\n",
       "\n",
       ".xr-section-summary > span {\n",
       "  display: inline-block;\n",
       "  padding-left: 0.5em;\n",
       "}\n",
       "\n",
       ".xr-section-summary-in:disabled + label {\n",
       "  color: var(--xr-font-color2);\n",
       "}\n",
       "\n",
       ".xr-section-summary-in + label:before {\n",
       "  display: inline-block;\n",
       "  content: '►';\n",
       "  font-size: 11px;\n",
       "  width: 15px;\n",
       "  text-align: center;\n",
       "}\n",
       "\n",
       ".xr-section-summary-in:disabled + label:before {\n",
       "  color: var(--xr-disabled-color);\n",
       "}\n",
       "\n",
       ".xr-section-summary-in:checked + label:before {\n",
       "  content: '▼';\n",
       "}\n",
       "\n",
       ".xr-section-summary-in:checked + label > span {\n",
       "  display: none;\n",
       "}\n",
       "\n",
       ".xr-section-summary,\n",
       ".xr-section-inline-details {\n",
       "  padding-top: 4px;\n",
       "  padding-bottom: 4px;\n",
       "}\n",
       "\n",
       ".xr-section-inline-details {\n",
       "  grid-column: 2 / -1;\n",
       "}\n",
       "\n",
       ".xr-section-details {\n",
       "  display: none;\n",
       "  grid-column: 1 / -1;\n",
       "  margin-bottom: 5px;\n",
       "}\n",
       "\n",
       ".xr-section-summary-in:checked ~ .xr-section-details {\n",
       "  display: contents;\n",
       "}\n",
       "\n",
       ".xr-array-wrap {\n",
       "  grid-column: 1 / -1;\n",
       "  display: grid;\n",
       "  grid-template-columns: 20px auto;\n",
       "}\n",
       "\n",
       ".xr-array-wrap > label {\n",
       "  grid-column: 1;\n",
       "  vertical-align: top;\n",
       "}\n",
       "\n",
       ".xr-preview {\n",
       "  color: var(--xr-font-color3);\n",
       "}\n",
       "\n",
       ".xr-array-preview,\n",
       ".xr-array-data {\n",
       "  padding: 0 5px !important;\n",
       "  grid-column: 2;\n",
       "}\n",
       "\n",
       ".xr-array-data,\n",
       ".xr-array-in:checked ~ .xr-array-preview {\n",
       "  display: none;\n",
       "}\n",
       "\n",
       ".xr-array-in:checked ~ .xr-array-data,\n",
       ".xr-array-preview {\n",
       "  display: inline-block;\n",
       "}\n",
       "\n",
       ".xr-dim-list {\n",
       "  display: inline-block !important;\n",
       "  list-style: none;\n",
       "  padding: 0 !important;\n",
       "  margin: 0;\n",
       "}\n",
       "\n",
       ".xr-dim-list li {\n",
       "  display: inline-block;\n",
       "  padding: 0;\n",
       "  margin: 0;\n",
       "}\n",
       "\n",
       ".xr-dim-list:before {\n",
       "  content: '(';\n",
       "}\n",
       "\n",
       ".xr-dim-list:after {\n",
       "  content: ')';\n",
       "}\n",
       "\n",
       ".xr-dim-list li:not(:last-child):after {\n",
       "  content: ',';\n",
       "  padding-right: 5px;\n",
       "}\n",
       "\n",
       ".xr-has-index {\n",
       "  font-weight: bold;\n",
       "}\n",
       "\n",
       ".xr-var-list,\n",
       ".xr-var-item {\n",
       "  display: contents;\n",
       "}\n",
       "\n",
       ".xr-var-item > div,\n",
       ".xr-var-item label,\n",
       ".xr-var-item > .xr-var-name span {\n",
       "  background-color: var(--xr-background-color-row-even);\n",
       "  margin-bottom: 0;\n",
       "}\n",
       "\n",
       ".xr-var-item > .xr-var-name:hover span {\n",
       "  padding-right: 5px;\n",
       "}\n",
       "\n",
       ".xr-var-list > li:nth-child(odd) > div,\n",
       ".xr-var-list > li:nth-child(odd) > label,\n",
       ".xr-var-list > li:nth-child(odd) > .xr-var-name span {\n",
       "  background-color: var(--xr-background-color-row-odd);\n",
       "}\n",
       "\n",
       ".xr-var-name {\n",
       "  grid-column: 1;\n",
       "}\n",
       "\n",
       ".xr-var-dims {\n",
       "  grid-column: 2;\n",
       "}\n",
       "\n",
       ".xr-var-dtype {\n",
       "  grid-column: 3;\n",
       "  text-align: right;\n",
       "  color: var(--xr-font-color2);\n",
       "}\n",
       "\n",
       ".xr-var-preview {\n",
       "  grid-column: 4;\n",
       "}\n",
       "\n",
       ".xr-var-name,\n",
       ".xr-var-dims,\n",
       ".xr-var-dtype,\n",
       ".xr-preview,\n",
       ".xr-attrs dt {\n",
       "  white-space: nowrap;\n",
       "  overflow: hidden;\n",
       "  text-overflow: ellipsis;\n",
       "  padding-right: 10px;\n",
       "}\n",
       "\n",
       ".xr-var-name:hover,\n",
       ".xr-var-dims:hover,\n",
       ".xr-var-dtype:hover,\n",
       ".xr-attrs dt:hover {\n",
       "  overflow: visible;\n",
       "  width: auto;\n",
       "  z-index: 1;\n",
       "}\n",
       "\n",
       ".xr-var-attrs,\n",
       ".xr-var-data {\n",
       "  display: none;\n",
       "  background-color: var(--xr-background-color) !important;\n",
       "  padding-bottom: 5px !important;\n",
       "}\n",
       "\n",
       ".xr-var-attrs-in:checked ~ .xr-var-attrs,\n",
       ".xr-var-data-in:checked ~ .xr-var-data {\n",
       "  display: block;\n",
       "}\n",
       "\n",
       ".xr-var-data > table {\n",
       "  float: right;\n",
       "}\n",
       "\n",
       ".xr-var-name span,\n",
       ".xr-var-data,\n",
       ".xr-attrs {\n",
       "  padding-left: 25px !important;\n",
       "}\n",
       "\n",
       ".xr-attrs,\n",
       ".xr-var-attrs,\n",
       ".xr-var-data {\n",
       "  grid-column: 1 / -1;\n",
       "}\n",
       "\n",
       "dl.xr-attrs {\n",
       "  padding: 0;\n",
       "  margin: 0;\n",
       "  display: grid;\n",
       "  grid-template-columns: 125px auto;\n",
       "}\n",
       "\n",
       ".xr-attrs dt,\n",
       ".xr-attrs dd {\n",
       "  padding: 0;\n",
       "  margin: 0;\n",
       "  float: left;\n",
       "  padding-right: 10px;\n",
       "  width: auto;\n",
       "}\n",
       "\n",
       ".xr-attrs dt {\n",
       "  font-weight: normal;\n",
       "  grid-column: 1;\n",
       "}\n",
       "\n",
       ".xr-attrs dt:hover span {\n",
       "  display: inline-block;\n",
       "  background: var(--xr-background-color);\n",
       "  padding-right: 10px;\n",
       "}\n",
       "\n",
       ".xr-attrs dd {\n",
       "  grid-column: 2;\n",
       "  white-space: pre-wrap;\n",
       "  word-break: break-all;\n",
       "}\n",
       "\n",
       ".xr-icon-database,\n",
       ".xr-icon-file-text2 {\n",
       "  display: inline-block;\n",
       "  vertical-align: middle;\n",
       "  width: 1em;\n",
       "  height: 1.5em !important;\n",
       "  stroke-width: 0;\n",
       "  stroke: currentColor;\n",
       "  fill: currentColor;\n",
       "}\n",
       "</style><pre class='xr-text-repr-fallback'>&lt;xarray.Dataset&gt;\n",
       "Dimensions:           (theta: 13, energy: 6, lambda: 10, sign: 2, kys: 11,\n",
       "                       kyt: 11, kxs: 11, kxt: 11)\n",
       "Coordinates:\n",
       "  * theta             (theta) float64 -3.142 -2.618 -2.094 ... 2.094 2.618 3.142\n",
       "  * energy            (energy) float64 0.07939 1.562 4.921 6.666 8.544 12.54\n",
       "  * lambda            (lambda) float64 0.1388 0.534 0.783 ... 1.09 1.156 1.18\n",
       "  * sign              (sign) int64 0 1\n",
       "  * kys               (kys) float64 -1.0 -0.8 -0.6 -0.4 -0.2 ... 0.4 0.6 0.8 1.0\n",
       "  * kyt               (kyt) float64 -1.0 -0.8 -0.6 -0.4 -0.2 ... 0.4 0.6 0.8 1.0\n",
       "  * kxs               (kxs) float64 -1.005 -0.8042 -0.6032 ... 0.8042 1.005\n",
       "  * kxt               (kxt) float64 -1.005 -0.8042 -0.6032 ... 0.8042 1.005\n",
       "    symmetrised       bool False\n",
       "Data variables:\n",
       "    entropy_transfer  (theta, energy, lambda, sign, kys, kyt, kxs, kxt) float64 ...\n",
       "Attributes:\n",
       "    description:  The entropy transfer with symmetrisation set to :False</pre><div class='xr-wrap' style='display:none'><div class='xr-header'><div class='xr-obj-type'>xarray.Dataset</div></div><ul class='xr-sections'><li class='xr-section-item'><input id='section-5f682a68-ead8-4ab6-82c2-a4634b3796d4' class='xr-section-summary-in' type='checkbox' disabled ><label for='section-5f682a68-ead8-4ab6-82c2-a4634b3796d4' class='xr-section-summary'  title='Expand/collapse section'>Dimensions:</label><div class='xr-section-inline-details'><ul class='xr-dim-list'><li><span class='xr-has-index'>theta</span>: 13</li><li><span class='xr-has-index'>energy</span>: 6</li><li><span class='xr-has-index'>lambda</span>: 10</li><li><span class='xr-has-index'>sign</span>: 2</li><li><span class='xr-has-index'>kys</span>: 11</li><li><span class='xr-has-index'>kyt</span>: 11</li><li><span class='xr-has-index'>kxs</span>: 11</li><li><span class='xr-has-index'>kxt</span>: 11</li></ul></div><div class='xr-section-details'></div></li><li class='xr-section-item'><input id='section-12001e1e-e65d-470d-bd93-d8e40a1b86d4' class='xr-section-summary-in' type='checkbox'  checked><label for='section-12001e1e-e65d-470d-bd93-d8e40a1b86d4' class='xr-section-summary' >Coordinates: <span>(9)</span></label><div class='xr-section-inline-details'></div><div class='xr-section-details'><ul class='xr-var-list'><li class='xr-var-item'><div class='xr-var-name'><span class='xr-has-index'>theta</span></div><div class='xr-var-dims'>(theta)</div><div class='xr-var-dtype'>float64</div><div class='xr-var-preview xr-preview'>-3.142 -2.618 ... 2.618 3.142</div><input id='attrs-6e7b6d52-351d-40e4-9baa-23a69ebdd311' class='xr-var-attrs-in' type='checkbox' disabled><label for='attrs-6e7b6d52-351d-40e4-9baa-23a69ebdd311' title='Show/Hide attributes'><svg class='icon xr-icon-file-text2'><use xlink:href='#icon-file-text2'></use></svg></label><input id='data-08c3f2be-c57d-42ec-a0d8-098d9dbfbd9e' class='xr-var-data-in' type='checkbox'><label for='data-08c3f2be-c57d-42ec-a0d8-098d9dbfbd9e' title='Show/Hide data repr'><svg class='icon xr-icon-database'><use xlink:href='#icon-database'></use></svg></label><div class='xr-var-attrs'><dl class='xr-attrs'></dl></div><div class='xr-var-data'><pre>array([-3.141593, -2.617994, -2.094395, -1.570796, -1.047198, -0.523599,\n",
       "        0.      ,  0.523599,  1.047198,  1.570796,  2.094395,  2.617994,\n",
       "        3.141593])</pre></div></li><li class='xr-var-item'><div class='xr-var-name'><span class='xr-has-index'>energy</span></div><div class='xr-var-dims'>(energy)</div><div class='xr-var-dtype'>float64</div><div class='xr-var-preview xr-preview'>0.07939 1.562 4.921 ... 8.544 12.54</div><input id='attrs-7b0368de-9760-4a34-b296-e5460d13c2e5' class='xr-var-attrs-in' type='checkbox' disabled><label for='attrs-7b0368de-9760-4a34-b296-e5460d13c2e5' title='Show/Hide attributes'><svg class='icon xr-icon-file-text2'><use xlink:href='#icon-file-text2'></use></svg></label><input id='data-5fbd9371-f9cb-4d6d-99a8-e1f868c44baa' class='xr-var-data-in' type='checkbox'><label for='data-5fbd9371-f9cb-4d6d-99a8-e1f868c44baa' title='Show/Hide data repr'><svg class='icon xr-icon-database'><use xlink:href='#icon-database'></use></svg></label><div class='xr-var-attrs'><dl class='xr-attrs'></dl></div><div class='xr-var-data'><pre>array([ 0.079385,  1.5625  ,  4.920615,  6.665775,  8.54428 , 12.539945])</pre></div></li><li class='xr-var-item'><div class='xr-var-name'><span class='xr-has-index'>lambda</span></div><div class='xr-var-dims'>(lambda)</div><div class='xr-var-dtype'>float64</div><div class='xr-var-preview xr-preview'>0.1388 0.534 0.783 ... 1.156 1.18</div><input id='attrs-25641336-ff9f-4dd0-8b51-a3736ee411db' class='xr-var-attrs-in' type='checkbox' disabled><label for='attrs-25641336-ff9f-4dd0-8b51-a3736ee411db' title='Show/Hide attributes'><svg class='icon xr-icon-file-text2'><use xlink:href='#icon-file-text2'></use></svg></label><input id='data-31063a6d-b3e2-4fef-ae8e-4228ffbb805f' class='xr-var-data-in' type='checkbox'><label for='data-31063a6d-b3e2-4fef-ae8e-4228ffbb805f' title='Show/Hide data repr'><svg class='icon xr-icon-database'><use xlink:href='#icon-database'></use></svg></label><div class='xr-var-attrs'><dl class='xr-attrs'></dl></div><div class='xr-var-data'><pre>array([0.138849, 0.534042, 0.783027, 0.82    , 0.844115, 0.91    , 1.      ,\n",
       "       1.09    , 1.155885, 1.18    ])</pre></div></li><li class='xr-var-item'><div class='xr-var-name'><span class='xr-has-index'>sign</span></div><div class='xr-var-dims'>(sign)</div><div class='xr-var-dtype'>int64</div><div class='xr-var-preview xr-preview'>0 1</div><input id='attrs-1f17fa51-dd09-476b-a1c7-50bb28fc4c75' class='xr-var-attrs-in' type='checkbox' disabled><label for='attrs-1f17fa51-dd09-476b-a1c7-50bb28fc4c75' title='Show/Hide attributes'><svg class='icon xr-icon-file-text2'><use xlink:href='#icon-file-text2'></use></svg></label><input id='data-339edefe-9c66-43f6-826a-2eef9bf7f7ba' class='xr-var-data-in' type='checkbox'><label for='data-339edefe-9c66-43f6-826a-2eef9bf7f7ba' title='Show/Hide data repr'><svg class='icon xr-icon-database'><use xlink:href='#icon-database'></use></svg></label><div class='xr-var-attrs'><dl class='xr-attrs'></dl></div><div class='xr-var-data'><pre>array([0, 1])</pre></div></li><li class='xr-var-item'><div class='xr-var-name'><span class='xr-has-index'>kys</span></div><div class='xr-var-dims'>(kys)</div><div class='xr-var-dtype'>float64</div><div class='xr-var-preview xr-preview'>-1.0 -0.8 -0.6 -0.4 ... 0.6 0.8 1.0</div><input id='attrs-c9f1d716-bcc9-4257-8104-114cbd7b1df9' class='xr-var-attrs-in' type='checkbox' disabled><label for='attrs-c9f1d716-bcc9-4257-8104-114cbd7b1df9' title='Show/Hide attributes'><svg class='icon xr-icon-file-text2'><use xlink:href='#icon-file-text2'></use></svg></label><input id='data-c671f761-6207-44ad-9012-a08bfea21f49' class='xr-var-data-in' type='checkbox'><label for='data-c671f761-6207-44ad-9012-a08bfea21f49' title='Show/Hide data repr'><svg class='icon xr-icon-database'><use xlink:href='#icon-database'></use></svg></label><div class='xr-var-attrs'><dl class='xr-attrs'></dl></div><div class='xr-var-data'><pre>array([-1. , -0.8, -0.6, -0.4, -0.2,  0. ,  0.2,  0.4,  0.6,  0.8,  1. ])</pre></div></li><li class='xr-var-item'><div class='xr-var-name'><span class='xr-has-index'>kyt</span></div><div class='xr-var-dims'>(kyt)</div><div class='xr-var-dtype'>float64</div><div class='xr-var-preview xr-preview'>-1.0 -0.8 -0.6 -0.4 ... 0.6 0.8 1.0</div><input id='attrs-64aa8e7b-9b02-4f6d-aa83-491097220e44' class='xr-var-attrs-in' type='checkbox' disabled><label for='attrs-64aa8e7b-9b02-4f6d-aa83-491097220e44' title='Show/Hide attributes'><svg class='icon xr-icon-file-text2'><use xlink:href='#icon-file-text2'></use></svg></label><input id='data-b9f25e4b-ba61-4798-a20f-47a18f8ace7a' class='xr-var-data-in' type='checkbox'><label for='data-b9f25e4b-ba61-4798-a20f-47a18f8ace7a' title='Show/Hide data repr'><svg class='icon xr-icon-database'><use xlink:href='#icon-database'></use></svg></label><div class='xr-var-attrs'><dl class='xr-attrs'></dl></div><div class='xr-var-data'><pre>array([-1. , -0.8, -0.6, -0.4, -0.2,  0. ,  0.2,  0.4,  0.6,  0.8,  1. ])</pre></div></li><li class='xr-var-item'><div class='xr-var-name'><span class='xr-has-index'>kxs</span></div><div class='xr-var-dims'>(kxs)</div><div class='xr-var-dtype'>float64</div><div class='xr-var-preview xr-preview'>-1.005 -0.8042 ... 0.8042 1.005</div><input id='attrs-83107276-0726-467c-963b-815498bc9af8' class='xr-var-attrs-in' type='checkbox' disabled><label for='attrs-83107276-0726-467c-963b-815498bc9af8' title='Show/Hide attributes'><svg class='icon xr-icon-file-text2'><use xlink:href='#icon-file-text2'></use></svg></label><input id='data-8286f8c8-2165-434a-aecf-9cadc27c3448' class='xr-var-data-in' type='checkbox'><label for='data-8286f8c8-2165-434a-aecf-9cadc27c3448' title='Show/Hide data repr'><svg class='icon xr-icon-database'><use xlink:href='#icon-database'></use></svg></label><div class='xr-var-attrs'><dl class='xr-attrs'></dl></div><div class='xr-var-data'><pre>array([-1.00531 , -0.804248, -0.603186, -0.402124, -0.201062,  0.      ,\n",
       "        0.201062,  0.402124,  0.603186,  0.804248,  1.00531 ])</pre></div></li><li class='xr-var-item'><div class='xr-var-name'><span class='xr-has-index'>kxt</span></div><div class='xr-var-dims'>(kxt)</div><div class='xr-var-dtype'>float64</div><div class='xr-var-preview xr-preview'>-1.005 -0.8042 ... 0.8042 1.005</div><input id='attrs-ee407b86-e57b-4e18-95b4-e91fa273cfa4' class='xr-var-attrs-in' type='checkbox' disabled><label for='attrs-ee407b86-e57b-4e18-95b4-e91fa273cfa4' title='Show/Hide attributes'><svg class='icon xr-icon-file-text2'><use xlink:href='#icon-file-text2'></use></svg></label><input id='data-84960b48-f78f-4ee0-8b1b-ca30b582d9f7' class='xr-var-data-in' type='checkbox'><label for='data-84960b48-f78f-4ee0-8b1b-ca30b582d9f7' title='Show/Hide data repr'><svg class='icon xr-icon-database'><use xlink:href='#icon-database'></use></svg></label><div class='xr-var-attrs'><dl class='xr-attrs'></dl></div><div class='xr-var-data'><pre>array([-1.00531 , -0.804248, -0.603186, -0.402124, -0.201062,  0.      ,\n",
       "        0.201062,  0.402124,  0.603186,  0.804248,  1.00531 ])</pre></div></li><li class='xr-var-item'><div class='xr-var-name'><span>symmetrised</span></div><div class='xr-var-dims'>()</div><div class='xr-var-dtype'>bool</div><div class='xr-var-preview xr-preview'>False</div><input id='attrs-a0913c0b-24e1-49bb-849d-98680076e492' class='xr-var-attrs-in' type='checkbox' disabled><label for='attrs-a0913c0b-24e1-49bb-849d-98680076e492' title='Show/Hide attributes'><svg class='icon xr-icon-file-text2'><use xlink:href='#icon-file-text2'></use></svg></label><input id='data-adc64164-aed2-4215-b3a0-750307330a7a' class='xr-var-data-in' type='checkbox'><label for='data-adc64164-aed2-4215-b3a0-750307330a7a' title='Show/Hide data repr'><svg class='icon xr-icon-database'><use xlink:href='#icon-database'></use></svg></label><div class='xr-var-attrs'><dl class='xr-attrs'></dl></div><div class='xr-var-data'><pre>array(False)</pre></div></li></ul></div></li><li class='xr-section-item'><input id='section-2689e595-f8c0-455d-8fdb-b2ba268992a1' class='xr-section-summary-in' type='checkbox'  checked><label for='section-2689e595-f8c0-455d-8fdb-b2ba268992a1' class='xr-section-summary' >Data variables: <span>(1)</span></label><div class='xr-section-inline-details'></div><div class='xr-section-details'><ul class='xr-var-list'><li class='xr-var-item'><div class='xr-var-name'><span>entropy_transfer</span></div><div class='xr-var-dims'>(theta, energy, lambda, sign, kys, kyt, kxs, kxt)</div><div class='xr-var-dtype'>float64</div><div class='xr-var-preview xr-preview'>...</div><input id='attrs-15ae456c-7ea6-49c2-af70-c44b4498e511' class='xr-var-attrs-in' type='checkbox' disabled><label for='attrs-15ae456c-7ea6-49c2-af70-c44b4498e511' title='Show/Hide attributes'><svg class='icon xr-icon-file-text2'><use xlink:href='#icon-file-text2'></use></svg></label><input id='data-1b66713d-378d-4ced-806b-a7f17998c6ea' class='xr-var-data-in' type='checkbox'><label for='data-1b66713d-378d-4ced-806b-a7f17998c6ea' title='Show/Hide data repr'><svg class='icon xr-icon-database'><use xlink:href='#icon-database'></use></svg></label><div class='xr-var-attrs'><dl class='xr-attrs'></dl></div><div class='xr-var-data'><pre>[22839960 values with dtype=float64]</pre></div></li></ul></div></li><li class='xr-section-item'><input id='section-4a83ccb2-f535-4ff8-a058-1bfe48145ee4' class='xr-section-summary-in' type='checkbox'  checked><label for='section-4a83ccb2-f535-4ff8-a058-1bfe48145ee4' class='xr-section-summary' >Attributes: <span>(1)</span></label><div class='xr-section-inline-details'></div><div class='xr-section-details'><dl class='xr-attrs'><dt><span>description :</span></dt><dd>The entropy transfer with symmetrisation set to :False</dd></dl></div></li></ul></div></div>"
      ],
      "text/plain": [
       "<xarray.Dataset>\n",
       "Dimensions:           (theta: 13, energy: 6, lambda: 10, sign: 2, kys: 11,\n",
       "                       kyt: 11, kxs: 11, kxt: 11)\n",
       "Coordinates:\n",
       "  * theta             (theta) float64 -3.142 -2.618 -2.094 ... 2.094 2.618 3.142\n",
       "  * energy            (energy) float64 0.07939 1.562 4.921 6.666 8.544 12.54\n",
       "  * lambda            (lambda) float64 0.1388 0.534 0.783 ... 1.09 1.156 1.18\n",
       "  * sign              (sign) int64 0 1\n",
       "  * kys               (kys) float64 -1.0 -0.8 -0.6 -0.4 -0.2 ... 0.4 0.6 0.8 1.0\n",
       "  * kyt               (kyt) float64 -1.0 -0.8 -0.6 -0.4 -0.2 ... 0.4 0.6 0.8 1.0\n",
       "  * kxs               (kxs) float64 -1.005 -0.8042 -0.6032 ... 0.8042 1.005\n",
       "  * kxt               (kxt) float64 -1.005 -0.8042 -0.6032 ... 0.8042 1.005\n",
       "    symmetrised       bool False\n",
       "Data variables:\n",
       "    entropy_transfer  (theta, energy, lambda, sign, kys, kyt, kxs, kxt) float64 ...\n",
       "Attributes:\n",
       "    description:  The entropy transfer with symmetrisation set to :False"
      ]
     },
     "execution_count": 110,
     "metadata": {},
     "output_type": "execute_result"
    }
   ],
   "source": [
    "transfer"
   ]
  },
  {
   "cell_type": "code",
   "execution_count": 84,
   "id": "fb5994d2-2a22-47da-8ea0-0a06455fba7c",
   "metadata": {},
   "outputs": [],
   "source": [
    "transfer_test = transfer[\"entropy_transfer\"]"
   ]
  },
  {
   "cell_type": "code",
   "execution_count": 85,
   "id": "df10d0b1-6c32-4a3b-9c0e-e5bc86351abd",
   "metadata": {},
   "outputs": [],
   "source": [
    "transfer_test = transfer_test.isel({\"theta\":6,\"energy\":4,\"lambda\":5,\"sign\":0})"
   ]
  },
  {
   "cell_type": "code",
   "execution_count": 86,
   "id": "bce5e125-2014-4df7-94f6-036df90047f0",
   "metadata": {},
   "outputs": [
    {
     "data": {
      "text/plain": [
       "(11, 11, 11, 11)"
      ]
     },
     "execution_count": 86,
     "metadata": {},
     "output_type": "execute_result"
    }
   ],
   "source": [
    "transfer_test.shape"
   ]
  },
  {
   "cell_type": "code",
   "execution_count": 106,
   "id": "aff2025e-0041-46db-8353-2eba1aa5336f",
   "metadata": {},
   "outputs": [
    {
     "data": {
      "image/png": "[encoded data removed]",
      "text/plain": [
       "<Figure size 400x300 with 2 Axes>"
      ]
     },
     "metadata": {},
     "output_type": "display_data"
    }
   ],
   "source": [
    "def plot_transfer_over_kx(iky_offset,save,savestr,zoom_mag=None):\n",
    "  \n",
    "    iky0 = int(len(transfer[\"kys\"])/2)\n",
    "    ikyt = iky0 + iky_offset\n",
    "    ikys = ikyt\n",
    "    # plot 4D transfer over kxs and kxt\n",
    "    YY = transfer[\"kxs\"].values\n",
    "    XX = transfer[\"kxt\"].values\n",
    "    X, Y = np.meshgrid(XX,YY)\n",
    "\n",
    "    Z = transfer_test[ikys,ikyt,:,:].values\n",
    "    \n",
    "    #norm = CenteredNorm()\n",
    "    norm = SymLogNorm(linthresh=1e-10) #to see more than just the dominant ones\n",
    "\n",
    "    pc = plt.pcolormesh(X,Y,Z, norm=norm)\n",
    "    cbar = plt.colorbar(pc)\n",
    "    cbar.set_label(r\"$T_S$ (GS2 units)\",fontsize=12)\n",
    "    plt.ylabel(r\"$k_x^s \\rho_r$\",fontsize=12)\n",
    "    plt.xlabel(r\"$k_x^t \\rho_r$\",fontsize=12)\n",
    "    plt.title(\"$k_y^s = k_y^t = $\"+str(transfer[\"kys\"][ikyt].values))\n",
    "    if zoom_mag is not None: \n",
    "        plt.xlim(-zoom_mag,zoom_mag)\n",
    "        plt.ylim(-zoom_mag,zoom_mag)\n",
    "    \n",
    "    if save: plt.savefig(savestr,bbox_inches='tight',dpi=200)\n",
    "    plt.show()\n",
    "    \n",
    "plot_transfer_over_kx(2,False,\"plots/symmetry_1.png\") # set kyt = kys = 0.4"
   ]
  },
  {
   "cell_type": "code",
   "execution_count": 107,
   "id": "38abdcfb-7617-4552-9881-7a3a04525a29",
   "metadata": {},
   "outputs": [
    {
     "data": {
      "image/png": "[encoded data removed]",
      "text/plain": [
       "<Figure size 400x300 with 2 Axes>"
      ]
     },
     "metadata": {},
     "output_type": "display_data"
    }
   ],
   "source": [
    "plot_transfer_over_kx(-2,False,\"plots/symmetry_2.png\") # set kyt = kys = -0.4"
   ]
  },
  {
   "cell_type": "code",
   "execution_count": 89,
   "id": "e6229cb8-f558-4765-8014-889919a627cd",
   "metadata": {},
   "outputs": [],
   "source": [
    "iky0 = int(len(transfer[\"kys\"])/2)\n",
    "ikx0 = int(len(transfer[\"kxs\"])/2)"
   ]
  },
  {
   "cell_type": "code",
   "execution_count": 90,
   "id": "db690414-c056-452a-9c08-2cb8f2ef5de5",
   "metadata": {},
   "outputs": [
    {
     "data": {
      "text/plain": [
       "array(4.6739046e-10)"
      ]
     },
     "execution_count": 90,
     "metadata": {},
     "output_type": "execute_result"
    }
   ],
   "source": [
    "transfer_test.isel(kys=iky0+3,kyt=iky0+2,kxs=ikx0+1,kxt=ikx0+4).values"
   ]
  },
  {
   "cell_type": "code",
   "execution_count": 91,
   "id": "aa354cd5-e27b-4089-9f95-7760f506edd1",
   "metadata": {},
   "outputs": [
    {
     "data": {
      "text/plain": [
       "array(-4.6739046e-10)"
      ]
     },
     "execution_count": 91,
     "metadata": {},
     "output_type": "execute_result"
    }
   ],
   "source": [
    "transfer_test.isel(kys=iky0+2,kyt=iky0+3,kxs=ikx0+4,kxt=ikx0+1).values"
   ]
  },
  {
   "cell_type": "markdown",
   "id": "94a5f3da-e728-4b34-b9ee-cb48f955a037",
   "metadata": {},
   "source": [
    "-> symmetry T(k,q) = -T(q,k) now works just as in Steve's thesis."
   ]
  },
  {
   "cell_type": "code",
   "execution_count": 97,
   "id": "ef6ea6fb-71be-417f-a95e-724dbb03fa2c",
   "metadata": {},
   "outputs": [],
   "source": [
    "kx = transfer[\"kxs\"]\n",
    "nkx = len(kx)"
   ]
  },
  {
   "cell_type": "code",
   "execution_count": 108,
   "id": "0ce825b2-cafe-42b7-804a-5a6041e4d6a7",
   "metadata": {},
   "outputs": [],
   "source": [
    "iky_offset = -2\n",
    "iky0 = int(len(transfer[\"kys\"])/2)\n",
    "ikyt = iky0 + iky_offset\n",
    "ikys = ikyt\n",
    "\n",
    "Z = transfer_test[ikys,ikyt,:,:].values\n",
    "\n",
    "non_zero = np.zeros((nkx,nkx))\n",
    "for i in range(nkx):\n",
    "    for j in range(nkx):\n",
    "        if Z[i,j] != 0:\n",
    "            non_zero[i,j] = 1\n",
    "        else:\n",
    "            non_zero[i,j] = 0"
   ]
  },
  {
   "cell_type": "code",
   "execution_count": 109,
   "id": "ecd933cf-a380-40f6-a43c-48ce21e665d6",
   "metadata": {},
   "outputs": [
    {
     "data": {
      "image/png": "[encoded data removed]",
      "text/plain": [
       "<Figure size 400x300 with 2 Axes>"
      ]
     },
     "metadata": {},
     "output_type": "display_data"
    }
   ],
   "source": [
    "YY = kx\n",
    "XX = YY\n",
    "X, Y = np.meshgrid(XX,YY)\n",
    "\n",
    "Z = non_zero\n",
    "plt.contourf(X,Y,Z,levels=[0,0.5,1])\n",
    "plt.colorbar()\n",
    "plt.ylabel(r\"$k_x^s \\rho_r$\")\n",
    "plt.xlabel(r\"$k_x^t \\rho_r$\")\n",
    "plt.show()"
   ]
  },
  {
   "cell_type": "code",
   "execution_count": null,
   "id": "70c66bc4-0b6c-4171-9069-5a67469b7156",
   "metadata": {},
   "outputs": [],
   "source": []
  }
 ],
 "metadata": {
  "kernelspec": {
   "display_name": "Python 3 (ipykernel)",
   "language": "python",
   "name": "python3"
  },
  "language_info": {
   "codemirror_mode": {
    "name": "ipython",
    "version": 3
   },
   "file_extension": ".py",
   "mimetype": "text/x-python",
   "name": "python",
   "nbconvert_exporter": "python",
   "pygments_lexer": "ipython3",
   "version": "3.9.13"
  }
 },
 "nbformat": 4,
 "nbformat_minor": 5
}
